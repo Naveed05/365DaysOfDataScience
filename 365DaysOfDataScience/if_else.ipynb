{
 "cells": [
  {
   "cell_type": "code",
   "execution_count": 1,
   "id": "657da5e9",
   "metadata": {},
   "outputs": [
    {
     "name": "stdout",
     "output_type": "stream",
     "text": [
      "you've Rights to vote\n"
     ]
    }
   ],
   "source": [
    "age = 20 \n",
    "\n",
    "if age> 18:\n",
    "    print(\"you've Rights to vote\")"
   ]
  },
  {
   "cell_type": "code",
   "execution_count": null,
   "id": "595fd8ca",
   "metadata": {},
   "outputs": [
    {
     "name": "stdout",
     "output_type": "stream",
     "text": [
      "you are eligible to vote\n"
     ]
    }
   ],
   "source": [
    "age = 19\n",
    "if age > 18:\n",
    "    print(\"you are eligible to vote\")\n",
    "\n"
   ]
  },
  {
   "cell_type": "code",
   "execution_count": 3,
   "id": "3d69c49e",
   "metadata": {},
   "outputs": [
    {
     "name": "stdout",
     "output_type": "stream",
     "text": [
      "Travel for free.\n"
     ]
    }
   ],
   "source": [
    "age = 10\n",
    "\n",
    "if age <= 12:\n",
    "    print(\"Travel for free.\")\n",
    "else:\n",
    "    print(\"Pay for ticket.\")"
   ]
  },
  {
   "cell_type": "code",
   "execution_count": 4,
   "id": "c9942ee0",
   "metadata": {},
   "outputs": [
    {
     "name": "stdout",
     "output_type": "stream",
     "text": [
      "you can travel for free\n"
     ]
    }
   ],
   "source": [
    "age = 10\n",
    "\n",
    "if age >= 10:\n",
    "    print(\"you can travel for free\")\n",
    "\n",
    "else:\n",
    "    print(\"you have to pay for the ticket\")"
   ]
  },
  {
   "cell_type": "code",
   "execution_count": null,
   "id": "bd4ad0a6",
   "metadata": {},
   "outputs": [
    {
     "name": "stdout",
     "output_type": "stream",
     "text": [
      "Result: Pass\n"
     ]
    }
   ],
   "source": [
    "marks = 45\n",
    "result = \"Pass\" if marks >= 40 else \"Fail\"\n",
    "\n",
    "print(f\"Result: {res}\")"
   ]
  },
  {
   "cell_type": "code",
   "execution_count": 6,
   "id": "a71a49d6",
   "metadata": {},
   "outputs": [
    {
     "name": "stdout",
     "output_type": "stream",
     "text": [
      "you've passed that exam\n"
     ]
    }
   ],
   "source": [
    "marks = 65\n",
    "if marks >= 35:\n",
    "    print(\"you've passed that exam\")\n",
    "else:\n",
    "    print(\"sorry! you failed\")"
   ]
  },
  {
   "cell_type": "code",
   "execution_count": 10,
   "id": "798a34a5",
   "metadata": {},
   "outputs": [
    {
     "name": "stdout",
     "output_type": "stream",
     "text": [
      "Result is :  pass\n"
     ]
    }
   ],
   "source": [
    "marks = 43\n",
    "result = \"pass\" if marks >= 35 else 'fail'\n",
    "\n",
    "print(f\"Result is : \", result)"
   ]
  },
  {
   "cell_type": "code",
   "execution_count": 11,
   "id": "c77699df",
   "metadata": {},
   "outputs": [
    {
     "name": "stdout",
     "output_type": "stream",
     "text": [
      "Young adult.\n"
     ]
    }
   ],
   "source": [
    "age = 25\n",
    "\n",
    "if age <= 12:\n",
    "    print(\"Child.\")\n",
    "elif age <= 19:\n",
    "    print(\"Teenager.\")\n",
    "elif age <= 35:\n",
    "    print(\"Young adult.\")\n",
    "else:\n",
    "    print(\"Adult.\")"
   ]
  },
  {
   "cell_type": "code",
   "execution_count": 13,
   "id": "1716ecf7",
   "metadata": {},
   "outputs": [
    {
     "name": "stdout",
     "output_type": "stream",
     "text": [
      "Your are a adult \n"
     ]
    }
   ],
   "source": [
    "age = int(input(\"Enter your age: \"))\n",
    "\n",
    "if age <= 12:\n",
    "    print(\"you are a child \")\n",
    "elif age <= 19:\n",
    "    print(\"you are a teenager\")\n",
    "elif age <=40:\n",
    "    print(\"Your are a adult \")\n",
    "else:\n",
    "    print(\"you are old man bro \")"
   ]
  },
  {
   "cell_type": "code",
   "execution_count": 15,
   "id": "dd35711e",
   "metadata": {},
   "outputs": [
    {
     "name": "stdout",
     "output_type": "stream",
     "text": [
      "Two\n"
     ]
    }
   ],
   "source": [
    "number = 2\n",
    "\n",
    "match number:\n",
    "    case 1:\n",
    "        print(\"One\")\n",
    "    case 2:\n",
    "        print(\"Two\")\n",
    "    case _:\n",
    "        print(\"Other number\")"
   ]
  },
  {
   "cell_type": "code",
   "execution_count": 16,
   "id": "17cfbe15",
   "metadata": {},
   "outputs": [
    {
     "name": "stdout",
     "output_type": "stream",
     "text": [
      "Two or Three\n"
     ]
    }
   ],
   "source": [
    "number = 2\n",
    "\n",
    "match number:\n",
    "    case 1:\n",
    "        print(\"One\")\n",
    "    case 2 | 3:\n",
    "        print(\"Two or Three\")\n",
    "    case _:\n",
    "        print(\"Other number\")"
   ]
  },
  {
   "cell_type": "code",
   "execution_count": 21,
   "id": "1a4a8247",
   "metadata": {},
   "outputs": [
    {
     "name": "stdout",
     "output_type": "stream",
     "text": [
      "number is odd\n"
     ]
    }
   ],
   "source": [
    "number = 5 \n",
    "\n",
    "if number % 2 ==0 :\n",
    "    print(\"even number \")\n",
    "else:\n",
    "    print(\"number is odd\")"
   ]
  },
  {
   "cell_type": "code",
   "execution_count": 20,
   "id": "50f3f66c",
   "metadata": {},
   "outputs": [
    {
     "name": "stdout",
     "output_type": "stream",
     "text": [
      "number is odd\n"
     ]
    }
   ],
   "source": [
    "number = int(input(\"enter the number\")) \n",
    "\n",
    "if number % 2 ==0 :\n",
    "    print(\"even number \")\n",
    "else:\n",
    "    print(\"number is odd\")"
   ]
  },
  {
   "cell_type": "code",
   "execution_count": 24,
   "id": "80531275",
   "metadata": {},
   "outputs": [
    {
     "name": "stdout",
     "output_type": "stream",
     "text": [
      "False\n"
     ]
    }
   ],
   "source": [
    "def check_status(a, b, flag):\n",
    "    if flag:\n",
    "        return a < 0 and b < 0\n",
    "    else:\n",
    "        return (a >= 0) ^ (b >= 0)\n",
    "    \n",
    "a = -1 \n",
    "b = -2\n",
    "flag = False\n",
    "\n",
    "print(check_status(a, b, flag))\n"
   ]
  },
  {
   "cell_type": "code",
   "execution_count": 25,
   "id": "7848eaeb",
   "metadata": {},
   "outputs": [
    {
     "name": "stdout",
     "output_type": "stream",
     "text": [
      "True\n"
     ]
    }
   ],
   "source": [
    "def check_status(a, b, flag):\n",
    "    if flag:\n",
    "        return a < 0 and b < 0\n",
    "    else:\n",
    "        return (a >= 0) ^ (b >= 0)\n",
    "\n",
    "# Directly pass values in the function call\n",
    "print(check_status(1, -1, False))  # Output: True"
   ]
  },
  {
   "cell_type": "code",
   "execution_count": 26,
   "id": "917ac86a",
   "metadata": {},
   "outputs": [
    {
     "name": "stdout",
     "output_type": "stream",
     "text": [
      "True\n"
     ]
    }
   ],
   "source": [
    "str =  \"catinhat\"\n",
    "cat = str.count('cat')\n",
    "hat = str.count(\"hat\")\n",
    "\n",
    "if cat == hat:\n",
    "    print( True)\n",
    "else:\n",
    "    print(False)"
   ]
  },
  {
   "cell_type": "code",
   "execution_count": 27,
   "id": "224e74a6",
   "metadata": {},
   "outputs": [
    {
     "name": "stdout",
     "output_type": "stream",
     "text": [
      "False\n"
     ]
    }
   ],
   "source": [
    "str = \"catinhatincatinhatandcatforcat\"\n",
    "cat = str.count(\"cat\")\n",
    "hat = str.count(\"hat\")\n",
    "if cat == hat:\n",
    "    print(True)\n",
    "else:\n",
    "    print(False)"
   ]
  },
  {
   "cell_type": "code",
   "execution_count": 28,
   "id": "11ae2ba3",
   "metadata": {},
   "outputs": [
    {
     "name": "stdout",
     "output_type": "stream",
     "text": [
      "number is greater\n"
     ]
    }
   ],
   "source": [
    "number = 34\n",
    "if number > 20: \n",
    "    print(\"number is greater\")\n",
    "else: \n",
    "    print(\"numebr is smaller\")"
   ]
  },
  {
   "cell_type": "code",
   "execution_count": 30,
   "id": "90d779cb",
   "metadata": {},
   "outputs": [
    {
     "name": "stdout",
     "output_type": "stream",
     "text": [
      "numebr is smaller\n"
     ]
    }
   ],
   "source": [
    "number = int(input(\"enter the number \"))\n",
    "if number > 20: \n",
    "    print(\"number is greater\")\n",
    "else: \n",
    "    print(\"numebr is smaller\")"
   ]
  },
  {
   "cell_type": "code",
   "execution_count": 33,
   "id": "374ca324",
   "metadata": {},
   "outputs": [
    {
     "name": "stdout",
     "output_type": "stream",
     "text": [
      "Fizz\n"
     ]
    }
   ],
   "source": [
    "a = 8\n",
    "if a % 2 == 0:\n",
    "    print(\"Fizz\")\n",
    "elif a % 3 == 0:\n",
    "    print(\"Buzz\")\n",
    "elif a% 2==0 and a%3==0:\n",
    "    print(\"FizBuzz\")\n"
   ]
  },
  {
   "cell_type": "code",
   "execution_count": 35,
   "id": "d52cdda8",
   "metadata": {},
   "outputs": [
    {
     "name": "stdout",
     "output_type": "stream",
     "text": [
      "Buzz\n"
     ]
    }
   ],
   "source": [
    "a = 20\n",
    "if a % 7 == 0:\n",
    "    print(\"Fizz\")\n",
    "elif a % 5 == 0:\n",
    "    print(\"Buzz\")\n",
    "elif a% 2==0 and a%5==0:\n",
    "    print(\"FizBuzz\")\n"
   ]
  },
  {
   "cell_type": "code",
   "execution_count": 37,
   "id": "6a55788d",
   "metadata": {},
   "outputs": [
    {
     "name": "stdout",
     "output_type": "stream",
     "text": [
      "Fizzbuzz\n"
     ]
    }
   ],
   "source": [
    "a = 20\n",
    "if a% 2==0 and a%5==0:\n",
    "    print(\"Fizzbuzz\")\n",
    "elif a % 5 == 0:\n",
    "    print(\"Buzz\")\n",
    "elif a % 7 == 0:\n",
    "    print(\"Fiz\")\n"
   ]
  },
  {
   "cell_type": "code",
   "execution_count": 42,
   "id": "e2b63006",
   "metadata": {},
   "outputs": [
    {
     "name": "stdout",
     "output_type": "stream",
     "text": [
      "Fizzbuzz\n"
     ]
    }
   ],
   "source": [
    "a = int(input(\"Enter the number \"))\n",
    "if a% 2==0 and a%5==0:\n",
    "    print(\"Fizzbuzz\")\n",
    "elif a % 5 == 0:\n",
    "    print(\"Buzz\")\n",
    "elif a % 5 == 0:\n",
    "    print(\"Fiz\")\n"
   ]
  },
  {
   "cell_type": "code",
   "execution_count": 43,
   "id": "66d992e4",
   "metadata": {},
   "outputs": [
    {
     "name": "stdout",
     "output_type": "stream",
     "text": [
      "hello\n"
     ]
    }
   ],
   "source": [
    "number = 10 \n",
    "if number % 5==0 :\n",
    "    print(\"hello\")\n",
    "else:\n",
    "    print(\"i dont know u \")"
   ]
  },
  {
   "cell_type": "code",
   "execution_count": 51,
   "id": "f39ccd5b",
   "metadata": {},
   "outputs": [
    {
     "name": "stdout",
     "output_type": "stream",
     "text": [
      "B is Greatest\n"
     ]
    }
   ],
   "source": [
    "a = 14\n",
    "b = 20 \n",
    "c = 11\n",
    "\n",
    "if a>b and a>c:\n",
    "    print(\"A is greatest Number \")\n",
    "elif b>a and b>c:\n",
    "    print(\"B is Greatest\")\n",
    "else :\n",
    "    print(\"C is the Greatest Number \")"
   ]
  },
  {
   "cell_type": "code",
   "execution_count": 53,
   "id": "21959d14",
   "metadata": {},
   "outputs": [
    {
     "name": "stdout",
     "output_type": "stream",
     "text": [
      "C is greater number \n"
     ]
    }
   ],
   "source": [
    "a = int(input(\"Enter the number A: \"))\n",
    "b = int(input(\"Enter the number B: \"))\n",
    "c = int(input(\"Enter the number C: \"))\n",
    "\n",
    "if a>b and a>c:\n",
    "    print(\"A is greater number \")\n",
    "elif b>a and b>c:\n",
    "    print(\"B is greater number \")\n",
    "else:\n",
    "    print(\"C is greater number \")"
   ]
  },
  {
   "cell_type": "code",
   "execution_count": null,
   "id": "fe600c9c",
   "metadata": {},
   "outputs": [
    {
     "name": "stdout",
     "output_type": "stream",
     "text": [
      "the year is not a leap year\n"
     ]
    }
   ],
   "source": [
    "year = 2001\n",
    "\n",
    "if year % 4 ==0:\n",
    "    if year % 100==0:\n",
    "        if year % 400==0:\n",
    "            print(\"the year is leap year \")\n",
    "else: \n",
    "    print(\"the year is not a leap year\")\n",
    "\n",
    "    "
   ]
  },
  {
   "cell_type": "code",
   "execution_count": 55,
   "id": "34d0c180",
   "metadata": {},
   "outputs": [
    {
     "name": "stdout",
     "output_type": "stream",
     "text": [
      "Result: 43.0\n"
     ]
    }
   ],
   "source": [
    "\n",
    "num1 = float(input(\"Enter first number: \"))\n",
    "operator = input(\"Enter operator (+, -, *, /): \")\n",
    "num2 = float(input(\"Enter second number: \"))\n",
    "\n",
    "\n",
    "if operator == '+':\n",
    "    print(\"Result:\", num1 + num2)\n",
    "elif operator == '-':\n",
    "    print(\"Result:\", num1 - num2)\n",
    "elif operator == '*':\n",
    "    print(\"Result:\", num1 * num2)\n",
    "elif operator == '/':\n",
    "    if num2 != 0:\n",
    "        print(\"Result:\", num1 / num2)\n",
    "    else:\n",
    "        print(\"Error: Cannot divide by zero.\")\n",
    "else:\n",
    "    print(\"Invalid operator!\")\n"
   ]
  },
  {
   "cell_type": "code",
   "execution_count": 59,
   "id": "5ddd2ff2",
   "metadata": {},
   "outputs": [
    {
     "name": "stdout",
     "output_type": "stream",
     "text": [
      "Result 0.65625\n"
     ]
    }
   ],
   "source": [
    "num1 = int(input(\"Enter the number : \"))\n",
    "num2 = int(input(\"Enter the number : \"))\n",
    "oper = input(\"Enter operator (+, -, *, /): \")\n",
    "\n",
    "if oper == '+':\n",
    "    print(\"Result\", num1 + num2 )\n",
    "elif oper == '-':\n",
    "    print(\"Result\", num1 - num2 )\n",
    "elif oper == '*':\n",
    "    print(\"Result\", num1 * num2 )\n",
    "elif oper == '/':\n",
    "    print(\"Result\", num1 / num2 )\n",
    "else:\n",
    "    print(\"invalid number or Symbol\")"
   ]
  },
  {
   "cell_type": "code",
   "execution_count": 60,
   "id": "cc651614",
   "metadata": {},
   "outputs": [
    {
     "name": "stdout",
     "output_type": "stream",
     "text": [
      "Second number is closer to the target.\n"
     ]
    }
   ],
   "source": [
    "target = int(input(\"Enter the target number: \"))\n",
    "a = int(input(\"Enter first number: \"))\n",
    "b = int(input(\"Enter second number: \"))\n",
    "\n",
    "diff_a = abs(target - a)\n",
    "diff_b = abs(target - b)\n",
    "\n",
    "\n",
    "if diff_a < diff_b:\n",
    "    print(\"First number is closer to the target.\")\n",
    "elif diff_b < diff_a:\n",
    "    print(\"Second number is closer to the target.\")\n",
    "else:\n",
    "    print(\"Both numbers are equally close to the target.\")\n"
   ]
  },
  {
   "cell_type": "code",
   "execution_count": 62,
   "id": "c5ae0ae2",
   "metadata": {},
   "outputs": [
    {
     "name": "stdout",
     "output_type": "stream",
     "text": [
      "Nice roll, try for a 6!\n"
     ]
    }
   ],
   "source": [
    "n = int(input(\"Enter your dice roll (1 to 6): \"))\n",
    "\n",
    "if 1 <= n <= 6:\n",
    "    if n == 1:\n",
    "        print(\"You got the worst roll 😢\")\n",
    "    elif n == 6:\n",
    "        print(\"You got the best roll! 🔥\")\n",
    "    else:\n",
    "        print(\"Nice roll, try for a 6!\")\n",
    "else:\n",
    "    print(\"Invalid roll! Dice only has 1 to 6.\")\n"
   ]
  },
  {
   "cell_type": "code",
   "execution_count": null,
   "id": "a97ae8a0",
   "metadata": {},
   "outputs": [],
   "source": []
  },
  {
   "cell_type": "code",
   "execution_count": null,
   "id": "713938ee",
   "metadata": {},
   "outputs": [],
   "source": []
  }
 ],
 "metadata": {
  "kernelspec": {
   "display_name": "base",
   "language": "python",
   "name": "python3"
  },
  "language_info": {
   "codemirror_mode": {
    "name": "ipython",
    "version": 3
   },
   "file_extension": ".py",
   "mimetype": "text/x-python",
   "name": "python",
   "nbconvert_exporter": "python",
   "pygments_lexer": "ipython3",
   "version": "3.12.7"
  }
 },
 "nbformat": 4,
 "nbformat_minor": 5
}
