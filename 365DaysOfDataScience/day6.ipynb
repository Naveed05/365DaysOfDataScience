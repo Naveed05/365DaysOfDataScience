{
 "cells": [
  {
   "cell_type": "code",
   "execution_count": 2,
   "id": "b810d113",
   "metadata": {},
   "outputs": [
    {
     "name": "stdout",
     "output_type": "stream",
     "text": [
      "-50\n"
     ]
    }
   ],
   "source": [
    "list = [1,2,3,4,5,50]\n",
    "list[-1] = -50\n",
    "print(list[-1])"
   ]
  },
  {
   "cell_type": "code",
   "execution_count": null,
   "id": "6d57aefd",
   "metadata": {},
   "outputs": [
    {
     "name": "stdout",
     "output_type": "stream",
     "text": [
      "[1, 2, 3, 4, 5, -50]\n"
     ]
    }
   ],
   "source": [
    "list1 = list.copy() #copy funtion for copying all the string \n",
    "print(list1)"
   ]
  },
  {
   "cell_type": "code",
   "execution_count": 6,
   "id": "60693536",
   "metadata": {},
   "outputs": [
    {
     "data": {
      "text/plain": [
       "True"
      ]
     },
     "execution_count": 6,
     "metadata": {},
     "output_type": "execute_result"
    }
   ],
   "source": [
    "list1 == list"
   ]
  },
  {
   "cell_type": "code",
   "execution_count": 8,
   "id": "a309ef9f",
   "metadata": {},
   "outputs": [
    {
     "name": "stdout",
     "output_type": "stream",
     "text": [
      "[1, 2, 3, 4, 5, -50]\n",
      "[1, 2, 3, 4, 5, -50]\n"
     ]
    }
   ],
   "source": [
    "print(list)\n",
    "print(list1)"
   ]
  },
  {
   "cell_type": "code",
   "execution_count": 9,
   "id": "2a5229d2",
   "metadata": {},
   "outputs": [
    {
     "name": "stdout",
     "output_type": "stream",
     "text": [
      "[1, 2, 3, 4, 5, -50, 20]\n"
     ]
    }
   ],
   "source": [
    "list.append(20)\n",
    "print(list)"
   ]
  },
  {
   "cell_type": "code",
   "execution_count": 12,
   "id": "b9036c1d",
   "metadata": {},
   "outputs": [
    {
     "name": "stdout",
     "output_type": "stream",
     "text": [
      "[20, -50, 5, 4, 3, 2, 1]\n"
     ]
    }
   ],
   "source": [
    "list.reverse()\n",
    "print(list)"
   ]
  },
  {
   "cell_type": "code",
   "execution_count": 16,
   "id": "a0a8cee9",
   "metadata": {},
   "outputs": [
    {
     "name": "stdout",
     "output_type": "stream",
     "text": [
      "[-50, 1, 2, 3, 4, 5, 20]\n"
     ]
    }
   ],
   "source": [
    "list.sort()\n",
    "print(list)"
   ]
  },
  {
   "cell_type": "code",
   "execution_count": 18,
   "id": "ce8fe868",
   "metadata": {},
   "outputs": [
    {
     "name": "stdout",
     "output_type": "stream",
     "text": [
      "[1, 2, 3]\n"
     ]
    }
   ],
   "source": [
    "print(list[1:4])\n"
   ]
  },
  {
   "cell_type": "code",
   "execution_count": 19,
   "id": "60425b9e",
   "metadata": {},
   "outputs": [
    {
     "name": "stdout",
     "output_type": "stream",
     "text": [
      "[-50, 1, 2, 3, 4, 5, 20]\n"
     ]
    }
   ],
   "source": [
    "print(list[0:])"
   ]
  },
  {
   "cell_type": "code",
   "execution_count": 24,
   "id": "c96afaa4",
   "metadata": {},
   "outputs": [],
   "source": [
    "# list.clear()\n",
    "# print(list)"
   ]
  },
  {
   "cell_type": "code",
   "execution_count": 27,
   "id": "aed0da30",
   "metadata": {},
   "outputs": [
    {
     "name": "stdout",
     "output_type": "stream",
     "text": [
      "['naveed', 'naveed', 'naveed', 'naveed']\n"
     ]
    }
   ],
   "source": [
    "list1.append(\"naveed\")\n",
    "print(list1)"
   ]
  },
  {
   "cell_type": "code",
   "execution_count": 28,
   "id": "0e91ad30",
   "metadata": {},
   "outputs": [
    {
     "name": "stdout",
     "output_type": "stream",
     "text": [
      "['Krish', 'Jack', 'Jacob', 1, 2, 3, 4, 5, ['Ali', 'Sara']]\n"
     ]
    }
   ],
   "source": [
    "names = [\"Krish\", \"Jack\", \"Jacob\", 1, 2, 3, 4, 5]\n",
    "names.append([\"Ali\", \"Sara\"])  # Nested list added\n",
    "print(names)\n"
   ]
  },
  {
   "cell_type": "code",
   "execution_count": 32,
   "id": "f48a3799",
   "metadata": {},
   "outputs": [
    {
     "name": "stdout",
     "output_type": "stream",
     "text": [
      "J\n",
      "a\n",
      "c\n",
      "k\n"
     ]
    }
   ],
   "source": [
    "for letters in names[1]:  # Print \"Jack\" line by line\n",
    "    print(letters)"
   ]
  },
  {
   "cell_type": "code",
   "execution_count": 34,
   "id": "f8a240a6",
   "metadata": {},
   "outputs": [
    {
     "data": {
      "text/plain": [
       "['Krish', 'Jacob', 2, 4, ['Ali', 'Sara']]"
      ]
     },
     "execution_count": 34,
     "metadata": {},
     "output_type": "execute_result"
    }
   ],
   "source": [
    "names[0:10:2]"
   ]
  },
  {
   "cell_type": "code",
   "execution_count": 31,
   "id": "774ef2cb",
   "metadata": {},
   "outputs": [
    {
     "data": {
      "text/plain": [
       "['Krish', 'Jack', 'Jacob', 1, 2, 3, 4, 5, ['Ali', 'Sara']]"
      ]
     },
     "execution_count": 31,
     "metadata": {},
     "output_type": "execute_result"
    }
   ],
   "source": [
    "names[:10]"
   ]
  },
  {
   "cell_type": "code",
   "execution_count": 40,
   "id": "832c8dd1",
   "metadata": {},
   "outputs": [
    {
     "name": "stdout",
     "output_type": "stream",
     "text": [
      "['Krish', 'Jack', 'naveed', 'Jacob', 1, 2, 3, 4, 5, ['Ali', 'Sara']]\n"
     ]
    }
   ],
   "source": [
    "names = ['Krish', 'Jack', 'Jacob', 1, 2, 3, 4, 5, ['Ali', 'Sara']]\n",
    "names.insert(2, \"naveed\")\n",
    "print(names)\n"
   ]
  },
  {
   "cell_type": "code",
   "execution_count": 42,
   "id": "b1891bfe",
   "metadata": {},
   "outputs": [
    {
     "data": {
      "text/plain": [
       "'naveed'"
      ]
     },
     "execution_count": 42,
     "metadata": {},
     "output_type": "execute_result"
    }
   ],
   "source": [
    "names.pop(2)"
   ]
  },
  {
   "cell_type": "code",
   "execution_count": 10,
   "id": "32a05ee2",
   "metadata": {},
   "outputs": [
    {
     "name": "stdout",
     "output_type": "stream",
     "text": [
      "<built-in method count of list object at 0x000001AEE81B6E80>\n"
     ]
    }
   ],
   "source": [
    "names = [\"Krish\", \"Jack\", \"Jacob\", 1, 2, 3, 4, 5]\n",
    "print(names.count)"
   ]
  },
  {
   "cell_type": "code",
   "execution_count": 11,
   "id": "faee0d2b",
   "metadata": {},
   "outputs": [
    {
     "name": "stdout",
     "output_type": "stream",
     "text": [
      "Krish appears 1 time(s)\n",
      "Jack appears 2 time(s)\n",
      "Jacob appears 1 time(s)\n",
      "1 appears 1 time(s)\n",
      "2 appears 2 time(s)\n",
      "3 appears 1 time(s)\n",
      "4 appears 1 time(s)\n",
      "5 appears 1 time(s)\n"
     ]
    }
   ],
   "source": [
    "names = [\"Krish\", \"Jack\", \"Jacob\", 1, 2, 3, 4, 5, \"Jack\", 2]\n",
    "counted = []\n",
    "\n",
    "for item in names:\n",
    "    if item not in counted:\n",
    "        print(f\"{item} appears {names.count(item)} time(s)\")\n",
    "        counted.append(item)\n"
   ]
  },
  {
   "cell_type": "code",
   "execution_count": null,
   "id": "a3bdf014",
   "metadata": {},
   "outputs": [
    {
     "ename": "SyntaxError",
     "evalue": "invalid syntax (3081352960.py, line 5)",
     "output_type": "error",
     "traceback": [
      "\u001b[1;36m  Cell \u001b[1;32mIn[18], line 5\u001b[1;36m\u001b[0m\n\u001b[1;33m    names in enumerate:\u001b[0m\n\u001b[1;37m                      ^\u001b[0m\n\u001b[1;31mSyntaxError\u001b[0m\u001b[1;31m:\u001b[0m invalid syntax\n"
     ]
    }
   ],
   "source": [
    "names = [\"Krish\", \"Jack\", \"Jacob\", 1, 2, 3, 4, 5,]\n",
    "\n",
    "for i in names:\n",
    "    print(i)\n",
    "\n"
   ]
  },
  {
   "cell_type": "code",
   "execution_count": null,
   "id": "a5c1cd69",
   "metadata": {},
   "outputs": [
    {
     "name": "stdout",
     "output_type": "stream",
     "text": [
      "0 Krish\n",
      "1 Jack\n",
      "2 Jacob\n",
      "3 1\n",
      "4 2\n",
      "5 3\n",
      "6 4\n",
      "7 5\n"
     ]
    }
   ],
   "source": [
    "names = [\"Krish\", \"Jack\", \"Jacob\", 1, 2, 3, 4, 5]\n",
    "\n",
    "for index, value in enumerate(names):\n",
    "    print(index, value)\n",
    "# for index, value in enumerate(names):\n",
    "#     print(index, value)\n"
   ]
  },
  {
   "cell_type": "code",
   "execution_count": null,
   "id": "5b3900a9",
   "metadata": {},
   "outputs": [],
   "source": []
  }
 ],
 "metadata": {
  "kernelspec": {
   "display_name": "base",
   "language": "python",
   "name": "python3"
  },
  "language_info": {
   "codemirror_mode": {
    "name": "ipython",
    "version": 3
   },
   "file_extension": ".py",
   "mimetype": "text/x-python",
   "name": "python",
   "nbconvert_exporter": "python",
   "pygments_lexer": "ipython3",
   "version": "3.12.7"
  }
 },
 "nbformat": 4,
 "nbformat_minor": 5
}
