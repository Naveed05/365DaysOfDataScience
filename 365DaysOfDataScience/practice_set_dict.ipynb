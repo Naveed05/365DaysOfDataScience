{
 "cells": [
  {
   "cell_type": "code",
   "execution_count": 5,
   "id": "7ea2e7e2",
   "metadata": {},
   "outputs": [
    {
     "name": "stdout",
     "output_type": "stream",
     "text": [
      "{1, 2, 3, 4, 5}\n",
      "<class 'set'>\n"
     ]
    }
   ],
   "source": [
    "my_set1 = {1,2,3,4,5}\n",
    "print(my_set1)\n",
    "print(type(my_set1))"
   ]
  },
  {
   "cell_type": "code",
   "execution_count": 10,
   "id": "973e46bd",
   "metadata": {},
   "outputs": [
    {
     "name": "stdout",
     "output_type": "stream",
     "text": [
      "{32, 43, 21, 'naveed'}\n",
      "<class 'set'>\n"
     ]
    }
   ],
   "source": [
    "set = {21,32,43,'naveed'}\n",
    "print(set)\n",
    "print(type(set))"
   ]
  },
  {
   "cell_type": "code",
   "execution_count": 32,
   "id": "1e90d268",
   "metadata": {},
   "outputs": [
    {
     "name": "stdout",
     "output_type": "stream",
     "text": [
      "{32, 43, 21, 'naveed'}\n",
      "<class 'set'>\n"
     ]
    }
   ],
   "source": [
    "set1 = {21,32,43,'naveed'}\n",
    "print(set1)\n",
    "print(type(set1))"
   ]
  },
  {
   "cell_type": "code",
   "execution_count": 59,
   "id": "61f4737d",
   "metadata": {},
   "outputs": [
    {
     "name": "stdout",
     "output_type": "stream",
     "text": [
      "{1, 2, 3, 4, 5, 6}\n",
      "<class 'set'>\n",
      "{1, 2, 3, 4, 5, 6, 7}\n",
      "{1, 2, 3, 4, 5, 6}\n"
     ]
    }
   ],
   "source": [
    "my_set= {1,2,3,4,5,6}\n",
    "print(my_set)\n",
    "print(type(my_set))\n",
    "\n",
    "my_set.add(7)\n",
    "print(my_set)\n",
    "my_set.remove(7)\n",
    "print(my_set)"
   ]
  },
  {
   "cell_type": "code",
   "execution_count": 60,
   "id": "d0c6d305",
   "metadata": {},
   "outputs": [
    {
     "ename": "KeyError",
     "evalue": "10",
     "output_type": "error",
     "traceback": [
      "\u001b[1;31m---------------------------------------------------------------------------\u001b[0m",
      "\u001b[1;31mKeyError\u001b[0m                                  Traceback (most recent call last)",
      "Cell \u001b[1;32mIn[60], line 1\u001b[0m\n\u001b[1;32m----> 1\u001b[0m my_set\u001b[38;5;241m.\u001b[39mremove(\u001b[38;5;241m10\u001b[39m)\n",
      "\u001b[1;31mKeyError\u001b[0m: 10"
     ]
    }
   ],
   "source": [
    "my_set.remove(10)"
   ]
  },
  {
   "cell_type": "code",
   "execution_count": 61,
   "id": "2b924fe6",
   "metadata": {},
   "outputs": [
    {
     "name": "stdout",
     "output_type": "stream",
     "text": [
      "{1, 2, 3, 4, 5, 6}\n",
      "{1, 2, 3, 4, 5, 6}\n"
     ]
    }
   ],
   "source": [
    "print(my_set)\n",
    "my_set.discard(8)\n",
    "print(my_set)"
   ]
  },
  {
   "cell_type": "code",
   "execution_count": 56,
   "id": "e742ca21",
   "metadata": {},
   "outputs": [],
   "source": [
    "# removed_element = my_set.pop()\n",
    "# # print(removed_element)\n",
    "# print(my_set)\n"
   ]
  },
  {
   "cell_type": "code",
   "execution_count": 62,
   "id": "d148daaa",
   "metadata": {},
   "outputs": [
    {
     "name": "stdout",
     "output_type": "stream",
     "text": [
      "{1, 2, 3, 4, 5, 6}\n"
     ]
    }
   ],
   "source": [
    "print(my_set)"
   ]
  },
  {
   "cell_type": "code",
   "execution_count": 63,
   "id": "8ef9e1dd",
   "metadata": {},
   "outputs": [
    {
     "name": "stdout",
     "output_type": "stream",
     "text": [
      "set()\n"
     ]
    }
   ],
   "source": [
    "my_set1.clear()\n",
    "print(my_set1)"
   ]
  },
  {
   "cell_type": "code",
   "execution_count": 64,
   "id": "1949916b",
   "metadata": {},
   "outputs": [
    {
     "data": {
      "text/plain": [
       "{1, 2, 3, 4, 5, 6}"
      ]
     },
     "execution_count": 64,
     "metadata": {},
     "output_type": "execute_result"
    }
   ],
   "source": [
    "my_set"
   ]
  },
  {
   "cell_type": "code",
   "execution_count": 65,
   "id": "b18ff431",
   "metadata": {},
   "outputs": [
    {
     "name": "stdout",
     "output_type": "stream",
     "text": [
      "True\n"
     ]
    }
   ],
   "source": [
    "print(3 in my_set)"
   ]
  },
  {
   "cell_type": "code",
   "execution_count": 66,
   "id": "66225677",
   "metadata": {},
   "outputs": [
    {
     "name": "stdout",
     "output_type": "stream",
     "text": [
      "False\n"
     ]
    }
   ],
   "source": [
    "print(9 in my_set)"
   ]
  },
  {
   "cell_type": "code",
   "execution_count": 89,
   "id": "a0d8e0b8",
   "metadata": {},
   "outputs": [
    {
     "data": {
      "text/plain": [
       "{4, 5}"
      ]
     },
     "execution_count": 89,
     "metadata": {},
     "output_type": "execute_result"
    }
   ],
   "source": [
    "set1 = {1,2,3,4,5}\n",
    "set2 = {4,5,6,7,8}\n",
    "set1\n",
    "set2\n",
    "set1.union(set2)\n",
    "set1.intersection(set2)"
   ]
  },
  {
   "cell_type": "code",
   "execution_count": 91,
   "id": "a61b4b6c",
   "metadata": {},
   "outputs": [
    {
     "data": {
      "text/plain": [
       "set()"
      ]
     },
     "execution_count": 91,
     "metadata": {},
     "output_type": "execute_result"
    }
   ],
   "source": [
    "set3 = {2,3,}\n",
    "set1.intersection(set3)\n",
    "set2.intersection(set3)"
   ]
  },
  {
   "cell_type": "code",
   "execution_count": 77,
   "id": "c09b4a54",
   "metadata": {},
   "outputs": [
    {
     "data": {
      "text/plain": [
       "{1, 4, 5}"
      ]
     },
     "execution_count": 77,
     "metadata": {},
     "output_type": "execute_result"
    }
   ],
   "source": [
    "set1.difference(set3)"
   ]
  },
  {
   "cell_type": "code",
   "execution_count": 78,
   "id": "d1eb7b86",
   "metadata": {},
   "outputs": [
    {
     "data": {
      "text/plain": [
       "{1, 2, 3, 6, 7, 8}"
      ]
     },
     "execution_count": 78,
     "metadata": {},
     "output_type": "execute_result"
    }
   ],
   "source": [
    "set1.symmetric_difference(set2)"
   ]
  },
  {
   "cell_type": "code",
   "execution_count": null,
   "id": "9055336f",
   "metadata": {},
   "outputs": [
    {
     "name": "stdout",
     "output_type": "stream",
     "text": [
      "{1, 2, 3, 7, 6, 8}\n"
     ]
    }
   ],
   "source": [
    "# set1.symmetric_difference_update(set2)\n",
    "# print(set1)"
   ]
  },
  {
   "cell_type": "code",
   "execution_count": null,
   "id": "02578fbd",
   "metadata": {},
   "outputs": [
    {
     "data": {
      "text/plain": [
       "{4, 5, 6, 7, 8}"
      ]
     },
     "execution_count": 82,
     "metadata": {},
     "output_type": "execute_result"
    }
   ],
   "source": [
    "set1\n",
    "set2"
   ]
  },
  {
   "cell_type": "code",
   "execution_count": 3,
   "id": "f122735f",
   "metadata": {},
   "outputs": [
    {
     "name": "stdout",
     "output_type": "stream",
     "text": [
      "{}\n",
      "<class 'dict'>\n"
     ]
    }
   ],
   "source": [
    "my_dict = dict()\n",
    "\n",
    "print(my_dict)\n",
    "print(type(my_dict))"
   ]
  },
  {
   "cell_type": "code",
   "execution_count": 5,
   "id": "2a7a818c",
   "metadata": {},
   "outputs": [
    {
     "name": "stdout",
     "output_type": "stream",
     "text": [
      "{}\n",
      "<class 'dict'>\n"
     ]
    }
   ],
   "source": [
    "my_dict = {}\n",
    "print(my_dict)\n",
    "print(type(my_dict))"
   ]
  },
  {
   "cell_type": "code",
   "execution_count": 8,
   "id": "fff8098e",
   "metadata": {},
   "outputs": [
    {
     "name": "stdout",
     "output_type": "stream",
     "text": [
      "<class 'dict'>\n"
     ]
    }
   ],
   "source": [
    "mydict = {1:'one' , 2:'two' , 3:'three'} # dictionary with integer keys\n",
    "mydict\n",
    "print(type(mydict))"
   ]
  },
  {
   "cell_type": "code",
   "execution_count": 9,
   "id": "4648ecbc",
   "metadata": {},
   "outputs": [
    {
     "name": "stdout",
     "output_type": "stream",
     "text": [
      "<class 'dict'>\n"
     ]
    }
   ],
   "source": [
    "mydict = ({1:'one' , 2:'two' , 3:'three'}) # dictionary with integer keys\n",
    "mydict\n",
    "print(type(mydict))"
   ]
  },
  {
   "cell_type": "code",
   "execution_count": 10,
   "id": "3fd525e6",
   "metadata": {},
   "outputs": [
    {
     "data": {
      "text/plain": [
       "dict_keys([1, 2, 3])"
      ]
     },
     "execution_count": 10,
     "metadata": {},
     "output_type": "execute_result"
    }
   ],
   "source": [
    "mydict.keys()"
   ]
  },
  {
   "cell_type": "code",
   "execution_count": 11,
   "id": "1457a457",
   "metadata": {},
   "outputs": [
    {
     "data": {
      "text/plain": [
       "dict_values(['one', 'two', 'three'])"
      ]
     },
     "execution_count": 11,
     "metadata": {},
     "output_type": "execute_result"
    }
   ],
   "source": [
    "mydict.values()"
   ]
  },
  {
   "cell_type": "code",
   "execution_count": 12,
   "id": "556315b3",
   "metadata": {},
   "outputs": [
    {
     "data": {
      "text/plain": [
       "dict_items([(1, 'one'), (2, 'two'), (3, 'three')])"
      ]
     },
     "execution_count": 12,
     "metadata": {},
     "output_type": "execute_result"
    }
   ],
   "source": [
    "mydict.items()"
   ]
  },
  {
   "cell_type": "code",
   "execution_count": 13,
   "id": "4094bdf9",
   "metadata": {},
   "outputs": [
    {
     "data": {
      "text/plain": [
       "{1: 'one', 2: 'two', 'A': ['asif', 'john', 'Maria'], 'B': ('Bat', 'cat')}"
      ]
     },
     "execution_count": 13,
     "metadata": {},
     "output_type": "execute_result"
    }
   ],
   "source": [
    "mydict = {1:'one' , 2:'two' , 'A':['asif' , 'john' , 'Maria'], 'B':('Bat' , 'cat')}\n",
    "mydict"
   ]
  },
  {
   "cell_type": "code",
   "execution_count": 14,
   "id": "b0102095",
   "metadata": {},
   "outputs": [
    {
     "data": {
      "text/plain": [
       "dict_keys([1, 2, 'A', 'B'])"
      ]
     },
     "execution_count": 14,
     "metadata": {},
     "output_type": "execute_result"
    }
   ],
   "source": [
    "mydict.keys()"
   ]
  },
  {
   "cell_type": "code",
   "execution_count": 15,
   "id": "5a9dfd2f",
   "metadata": {},
   "outputs": [
    {
     "data": {
      "text/plain": [
       "dict_values(['one', 'two', ['asif', 'john', 'Maria'], ('Bat', 'cat')])"
      ]
     },
     "execution_count": 15,
     "metadata": {},
     "output_type": "execute_result"
    }
   ],
   "source": [
    "mydict.values()"
   ]
  },
  {
   "cell_type": "code",
   "execution_count": 17,
   "id": "d6279deb",
   "metadata": {},
   "outputs": [],
   "source": [
    "names = {'A': 'naveed', 'A ': 'shajil', 'mark': [45, 32, 59,34], 'subject': ('marathi', 'hindi') }"
   ]
  },
  {
   "cell_type": "code",
   "execution_count": 21,
   "id": "741a2ee8",
   "metadata": {},
   "outputs": [
    {
     "data": {
      "text/plain": [
       "dict_values(['naveed', 'shajil', [45, 32, 59, 34], ('marathi', 'hindi')])"
      ]
     },
     "execution_count": 21,
     "metadata": {},
     "output_type": "execute_result"
    }
   ],
   "source": [
    "names.keys()\n",
    "names.values()"
   ]
  },
  {
   "cell_type": "code",
   "execution_count": 22,
   "id": "08f9659d",
   "metadata": {},
   "outputs": [
    {
     "data": {
      "text/plain": [
       "{'b': 10, 'a': 10, 'c': 10, 'd': 10}"
      ]
     },
     "execution_count": 22,
     "metadata": {},
     "output_type": "execute_result"
    }
   ],
   "source": [
    "keys = {'a' , 'b' , 'c' , 'd'}\n",
    "value = 10\n",
    "mydict3 = dict.fromkeys(keys , value)\n",
    "mydict3"
   ]
  },
  {
   "cell_type": "code",
   "execution_count": null,
   "id": "a3bf6856",
   "metadata": {},
   "outputs": [
    {
     "ename": "AttributeError",
     "evalue": "'int' object has no attribute 'append'",
     "output_type": "error",
     "traceback": [
      "\u001b[1;31m---------------------------------------------------------------------------\u001b[0m",
      "\u001b[1;31mAttributeError\u001b[0m                            Traceback (most recent call last)",
      "Cell \u001b[1;32mIn[27], line 5\u001b[0m\n\u001b[0;32m      3\u001b[0m mydict \u001b[38;5;241m=\u001b[39m \u001b[38;5;28mdict\u001b[39m\u001b[38;5;241m.\u001b[39mfromkeys(keys, value)\n\u001b[0;32m      4\u001b[0m mydict\n\u001b[1;32m----> 5\u001b[0m value\u001b[38;5;241m.\u001b[39mappend(\u001b[38;5;241m40\u001b[39m)\n",
      "\u001b[1;31mAttributeError\u001b[0m: 'int' object has no attribute 'append'"
     ]
    }
   ],
   "source": [
    "numbers  = {'a', 'b', 'c', 'd'}\n",
    "value = 21\n",
    "mydict = dict.fromkeys(keys, value)\n",
    "mydict\n",
    "value.append(40)"
   ]
  },
  {
   "cell_type": "code",
   "execution_count": 36,
   "id": "385f9f36",
   "metadata": {},
   "outputs": [
    {
     "name": "stdout",
     "output_type": "stream",
     "text": [
      "{'b': [10, 20, 30, 40], 'a': [10, 20, 30, 40], 'c': [10, 20, 30, 40], 'd': [10, 20, 30, 40]}\n"
     ]
    }
   ],
   "source": [
    "numbers  = {'a', 'b', 'c', 'd'}\n",
    "value = [10,20,30]\n",
    "mydict = dict.fromkeys(keys, value)\n",
    "mydict\n",
    "value.append(40)\n",
    "print(mydict)"
   ]
  },
  {
   "cell_type": "code",
   "execution_count": 43,
   "id": "fb16f8d4",
   "metadata": {},
   "outputs": [
    {
     "data": {
      "text/plain": [
       "'two'"
      ]
     },
     "execution_count": 43,
     "metadata": {},
     "output_type": "execute_result"
    }
   ],
   "source": [
    "mydict = {1:'one' , 2:'two' , 3:'three' , 4:'four'}\n",
    "mydict[1]\n",
    "mydict[2]"
   ]
  },
  {
   "cell_type": "code",
   "execution_count": 49,
   "id": "db1a72e2",
   "metadata": {},
   "outputs": [
    {
     "data": {
      "text/plain": [
       "dict_values(['one', 'two', 'three', 'four'])"
      ]
     },
     "execution_count": 49,
     "metadata": {},
     "output_type": "execute_result"
    }
   ],
   "source": [
    "mydict1 = {'Name':'Asif' , 'ID': 74123 , 'DOB': 1991 , 'job' :'Analyst'}\n",
    "mydict1[\"Name\"]\n",
    "mydict1.keys()\n",
    "mydict.values()"
   ]
  },
  {
   "cell_type": "code",
   "execution_count": 50,
   "id": "87ab4248",
   "metadata": {},
   "outputs": [
    {
     "data": {
      "text/plain": [
       "'Analyst'"
      ]
     },
     "execution_count": 50,
     "metadata": {},
     "output_type": "execute_result"
    }
   ],
   "source": [
    "mydict1['job']"
   ]
  },
  {
   "cell_type": "code",
   "execution_count": 71,
   "id": "28df0399",
   "metadata": {},
   "outputs": [],
   "source": [
    "mydict1 = {'Name':'Asif' , 'ID': 12345 , 'DOB': 1991 , 'Address' : 'Hilsinki'}\n",
    "mydict1['Name'] = \"naveed\"\n",
    "mydict1['ID'] = 123123\n",
    "mydict1['DOB'] = 2004\n",
    "mydict1['Address'] = 'India'"
   ]
  },
  {
   "cell_type": "code",
   "execution_count": 72,
   "id": "20fe1b91",
   "metadata": {},
   "outputs": [
    {
     "data": {
      "text/plain": [
       "{'Name': 'naveed', 'ID': 123123, 'DOB': 2004, 'Address': 'India'}"
      ]
     },
     "execution_count": 72,
     "metadata": {},
     "output_type": "execute_result"
    }
   ],
   "source": [
    "mydict1"
   ]
  },
  {
   "cell_type": "code",
   "execution_count": 73,
   "id": "ef0509a7",
   "metadata": {},
   "outputs": [
    {
     "name": "stdout",
     "output_type": "stream",
     "text": [
      "{'ID': 123123, 'DOB': 2004, 'Address': 'India'}\n",
      "popped item is  naveed\n"
     ]
    }
   ],
   "source": [
    "popped_item = mydict1.pop(\"Name\")\n",
    "print(mydict1)\n",
    "print(\"popped item is \", popped_item)"
   ]
  },
  {
   "cell_type": "code",
   "execution_count": null,
   "id": "6553d31b",
   "metadata": {},
   "outputs": [
    {
     "data": {
      "text/plain": [
       "{'ID': 123123, 'DOB': 2004, 'Address': 'India'}"
      ]
     },
     "execution_count": 64,
     "metadata": {},
     "output_type": "execute_result"
    }
   ],
   "source": [
    "mydict1\n"
   ]
  },
  {
   "cell_type": "code",
   "execution_count": 74,
   "id": "58c102e6",
   "metadata": {},
   "outputs": [],
   "source": [
    "del[mydict1[\"ID\"]]"
   ]
  },
  {
   "cell_type": "code",
   "execution_count": 75,
   "id": "5c14b4ad",
   "metadata": {},
   "outputs": [
    {
     "data": {
      "text/plain": [
       "{'DOB': 2004, 'Address': 'India'}"
      ]
     },
     "execution_count": 75,
     "metadata": {},
     "output_type": "execute_result"
    }
   ],
   "source": [
    "mydict1"
   ]
  },
  {
   "cell_type": "code",
   "execution_count": 79,
   "id": "5b7d4c53",
   "metadata": {},
   "outputs": [
    {
     "name": "stdout",
     "output_type": "stream",
     "text": [
      "<class 'dict'>\n"
     ]
    }
   ],
   "source": [
    "mydict1.clear()\n",
    "mydict1\n",
    "print(type(mydict1))"
   ]
  },
  {
   "cell_type": "code",
   "execution_count": 80,
   "id": "349b5210",
   "metadata": {},
   "outputs": [],
   "source": [
    "del mydict1"
   ]
  },
  {
   "cell_type": "code",
   "execution_count": 83,
   "id": "a0ca2d6b",
   "metadata": {},
   "outputs": [
    {
     "ename": "NameError",
     "evalue": "name 'mydict1' is not defined",
     "output_type": "error",
     "traceback": [
      "\u001b[1;31m---------------------------------------------------------------------------\u001b[0m",
      "\u001b[1;31mNameError\u001b[0m                                 Traceback (most recent call last)",
      "Cell \u001b[1;32mIn[83], line 1\u001b[0m\n\u001b[1;32m----> 1\u001b[0m mydict1\n",
      "\u001b[1;31mNameError\u001b[0m: name 'mydict1' is not defined"
     ]
    }
   ],
   "source": [
    "mydict1"
   ]
  },
  {
   "cell_type": "code",
   "execution_count": 86,
   "id": "9d803c5f",
   "metadata": {},
   "outputs": [],
   "source": [
    "mydict = {'Name':'Asif' , 'ID': 12345 , 'DOB': 1991 , 'Address' : 'Hilsinki'}\n",
    "mydict1 = {}\n",
    "mydict = mydict1"
   ]
  },
  {
   "cell_type": "code",
   "execution_count": 87,
   "id": "2dfff30f",
   "metadata": {},
   "outputs": [
    {
     "name": "stdout",
     "output_type": "stream",
     "text": [
      "['ID', {}, {}]\n"
     ]
    }
   ],
   "source": [
    "print([\"ID\", my_dict, mydict1])"
   ]
  },
  {
   "cell_type": "code",
   "execution_count": 90,
   "id": "0d39a98c",
   "metadata": {},
   "outputs": [
    {
     "data": {
      "text/plain": [
       "(1790762572928, 1790762572928)"
      ]
     },
     "execution_count": 90,
     "metadata": {},
     "output_type": "execute_result"
    }
   ],
   "source": [
    "# 'ID'(mydict), 'ID'(mydict1) \n",
    "id(mydict1), id(mydict)\n",
    "\n"
   ]
  },
  {
   "cell_type": "code",
   "execution_count": 94,
   "id": "4341c304",
   "metadata": {},
   "outputs": [
    {
     "name": "stdout",
     "output_type": "stream",
     "text": [
      "mydict: {'Name': 'Asif', 'ID': 12345, 'DOB': 1991, 'Address': 'Hilsinki'}\n",
      "mydict1: {'Name': 'Asif', 'ID': 12345, 'DOB': 1991, 'Address': 'Hilsinki'}\n",
      "12345\n",
      "12345\n"
     ]
    }
   ],
   "source": [
    "mydict = {'Name': 'Asif', 'ID': 12345, 'DOB': 1991, 'Address': 'Hilsinki'}\n",
    "mydict1 = {}\n",
    "\n",
    "# If you really want mydict to become empty like mydict1\n",
    "mydict1 = mydict\n",
    "\n",
    "# Now both are empty\n",
    "print(\"mydict:\", mydict)\n",
    "print(\"mydict1:\", mydict1)\n",
    "\n",
    "# These lines are incorrect:\n",
    "# 'ID'(mydict) ❌\n",
    "\n",
    "# ✅ Correct way to access value:\n",
    "print(mydict.get('ID'))     \n",
    "print(mydict1.get('ID'))     \n"
   ]
  },
  {
   "cell_type": "code",
   "execution_count": 95,
   "id": "de39e1ea",
   "metadata": {},
   "outputs": [
    {
     "data": {
      "text/plain": [
       "True"
      ]
     },
     "execution_count": 95,
     "metadata": {},
     "output_type": "execute_result"
    }
   ],
   "source": [
    "\"ID\" in mydict1"
   ]
  },
  {
   "cell_type": "code",
   "execution_count": 96,
   "id": "b9b95836",
   "metadata": {},
   "outputs": [
    {
     "data": {
      "text/plain": [
       "True"
      ]
     },
     "execution_count": 96,
     "metadata": {},
     "output_type": "execute_result"
    }
   ],
   "source": [
    "\"Address\" in mydict1"
   ]
  },
  {
   "cell_type": "code",
   "execution_count": 15,
   "id": "749fea20",
   "metadata": {},
   "outputs": [
    {
     "name": "stdout",
     "output_type": "stream",
     "text": [
      "{'orange', 'Mango', 'Apple', 'grapes'}\n",
      "<class 'set'>\n",
      "{'Apple', 'orange', 'Mango', 'grapes', 'Banana'}\n",
      "{'orange', 'Mango', 'grapes', 'Banana'}\n",
      "{'Orange', 'Apple', 'orange', 'Mango', 'Papaya', 'grapes', 'green Apple', 'Banana'}\n",
      "{'Mango'}\n",
      "False\n",
      "{'Orange', 'Papaya', 'Apple', 'grapes', 'orange', 'green Apple', 'Banana'}\n",
      "{'banana', 'mango', 'apple'}\n",
      "banana is in the list\n",
      "set()\n"
     ]
    }
   ],
   "source": [
    "fruits = set(['Apple', \"orange\", \"grapes\", \"Mango\"])\n",
    "print(fruits)\n",
    "print(type(fruits))\n",
    "\n",
    "fruits.add(\"Banana\")\n",
    "print(fruits)\n",
    "\n",
    "# fruits.remove(\"Banana\")\n",
    "# print(fruits)\n",
    "fruits.pop()\n",
    "print(fruits)\n",
    "\n",
    "purchased_fuits = set([\"Papaya\", \"Apple\", \"Mango\", \"green Apple\", \"Orange\"])\n",
    "union_of_fruits = fruits.union(purchased_fuits)\n",
    "print(union_of_fruits)\n",
    "\n",
    "intersection_of_fruits = fruits.intersection(purchased_fuits)\n",
    "print(intersection_of_fruits)\n",
    "\n",
    "subset_set = fruits\n",
    "\n",
    "print(fruits.issubset(purchased_fuits))\n",
    "\n",
    "print(fruits.symmetric_difference(purchased_fuits))\n",
    "\n",
    "my_list = [\"apple\", \"banana\", \"apple\", \"mango\", \"banana\"]\n",
    "my_list_set = set(my_list)\n",
    "print(my_list_set)\n",
    "\n",
    "\n",
    "if \"banana\" in my_list_set: \n",
    "    print(\"banana is in the list\")\n",
    "else:\n",
    "    print(\"there is not banana in the give list\")\n",
    "\n",
    "intersection_element = fruits.intersection(purchased_fuits, my_list_set)\n",
    "print(intersection_element)\n"
   ]
  },
  {
   "cell_type": "code",
   "execution_count": 1,
   "id": "3a0b0dcb",
   "metadata": {},
   "outputs": [
    {
     "name": "stdout",
     "output_type": "stream",
     "text": [
      "Epoch 0: Cost = 30.6521\n",
      "Epoch 100: Cost = 0.0473\n",
      "Epoch 200: Cost = 0.0337\n",
      "Epoch 300: Cost = 0.0240\n",
      "Epoch 400: Cost = 0.0171\n",
      "Epoch 500: Cost = 0.0122\n",
      "Epoch 600: Cost = 0.0087\n",
      "Epoch 700: Cost = 0.0062\n",
      "Epoch 800: Cost = 0.0044\n",
      "Epoch 900: Cost = 0.0032\n",
      "\n",
      "Final model parameters:\n",
      "Theta 0 (intercept): 0.1575\n",
      "Theta 1 (slope)    : 1.9564\n",
      "Final Cost         : 0.0023\n",
      "\n",
      "Prediction for x = 6 → y = 11.90\n"
     ]
    },
    {
     "data": {
      "image/png": "[encoded data removed]",
      "text/plain": [
       "<Figure size 640x480 with 1 Axes>"
      ]
     },
     "metadata": {},
     "output_type": "display_data"
    }
   ],
   "source": [
    "import numpy as np\n",
    "import matplotlib.pyplot as plt\n",
    "\n",
    "# -------------------------------\n",
    "# 1. Generate sample data\n",
    "# -------------------------------\n",
    "\n",
    "# X: input features (like number of hours studied)\n",
    "X = np.array([1, 2, 3, 4, 5])\n",
    "# y: actual target values (like test scores)\n",
    "y = np.array([2, 4, 6, 8, 10])\n",
    "\n",
    "# Reshape X to 2D (required for matrix operations)\n",
    "X = X.reshape(-1, 1)\n",
    "\n",
    "# Add bias column (intercept = x0 = 1)\n",
    "X_b = np.c_[np.ones((len(X), 1)), X]  # now shape is (5, 2)\n",
    "\n",
    "# -------------------------------\n",
    "# 2. Initialize weights\n",
    "# -------------------------------\n",
    "theta = np.random.randn(2)  # 2 weights: one for bias, one for x\n",
    "\n",
    "# Learning rate\n",
    "lr = 0.01\n",
    "# Number of training iterations\n",
    "epochs = 1000\n",
    "\n",
    "# -------------------------------\n",
    "# 3. Define Cost Function (MSE)\n",
    "# -------------------------------\n",
    "def compute_cost(X, y, theta):\n",
    "    m = len(y)  # number of samples\n",
    "    predictions = X.dot(theta)  # predicted values\n",
    "    errors = predictions - y\n",
    "    cost = (1 / (2 * m)) * np.dot(errors, errors)  # MSE formula\n",
    "    return cost\n",
    "\n",
    "# -------------------------------\n",
    "# 4. Train using Gradient Descent\n",
    "# -------------------------------\n",
    "cost_history = []\n",
    "\n",
    "for i in range(epochs):\n",
    "    predictions = X_b.dot(theta)\n",
    "    errors = predictions - y\n",
    "    gradients = (1 / len(y)) * X_b.T.dot(errors)  # partial derivatives\n",
    "    theta = theta - lr * gradients  # update weights\n",
    "\n",
    "    cost = compute_cost(X_b, y, theta)\n",
    "    cost_history.append(cost)\n",
    "\n",
    "    if i % 100 == 0:\n",
    "        print(f\"Epoch {i}: Cost = {cost:.4f}\")\n",
    "\n",
    "# -------------------------------\n",
    "# 5. Final Weights (slope and intercept)\n",
    "# -------------------------------\n",
    "print(\"\\nFinal model parameters:\")\n",
    "print(f\"Theta 0 (intercept): {theta[0]:.4f}\")\n",
    "print(f\"Theta 1 (slope)    : {theta[1]:.4f}\")\n",
    "print(f\"Final Cost         : {compute_cost(X_b, y, theta):.4f}\")\n",
    "\n",
    "# -------------------------------\n",
    "# 6. Predict new values\n",
    "# -------------------------------\n",
    "def predict(x):\n",
    "    return theta[0] + theta[1] * x\n",
    "\n",
    "new_x = 6\n",
    "predicted_y = predict(new_x)\n",
    "print(f\"\\nPrediction for x = {new_x} → y = {predicted_y:.2f}\")\n",
    "\n",
    "# -------------------------------\n",
    "# 7. Plot results\n",
    "# -------------------------------\n",
    "plt.scatter(X, y, color='blue', label=\"Actual Data\")\n",
    "plt.plot(X, X_b.dot(theta), color='red', label=\"Prediction Line for 1\")\n",
    "plt.xlabel(\"X valuesfor the data \")\n",
    "plt.ylabel(\"y values for the data \")\n",
    "plt.title(\"Linear Regression from Scratch full updates\")\n",
    "plt.legend()\n",
    "plt.grid(True)\n",
    "plt.show()\n"
   ]
  },
  {
   "cell_type": "code",
   "execution_count": 30,
   "id": "b2df3244",
   "metadata": {},
   "outputs": [
    {
     "name": "stdout",
     "output_type": "stream",
     "text": [
      "(12, 13, 14, 15, 16, 13, 13, 13, 13)\n",
      "<class 'tuple'>\n",
      "14\n",
      "(14, 15, 16, 13, 13, 13, 13)\n",
      "5\n",
      "2\n",
      "(12, 13, 14, 15, 16, 13, 13, 13, 13, 12, 3, 14, 15, 13, 21, 6)\n",
      "21 is in the my tuple\n",
      "('a', 'b', 'c')\n",
      "<class 'tuple'>\n",
      "a\n",
      "b\n",
      "c\n"
     ]
    }
   ],
   "source": [
    "my_tuple = (12,13,14,15,16,13,13,13,13)\n",
    "print(my_tuple)\n",
    "print(type(my_tuple))\n",
    "\n",
    "print(my_tuple[2])\n",
    "print(my_tuple[2:])\n",
    "print(my_tuple.count(13))\n",
    "print(my_tuple.index(14))\n",
    "\n",
    "my_tuple1 = (12,3,14,15,13,21,6)\n",
    "my_tuple2 = my_tuple + my_tuple1\n",
    "print(my_tuple2)\n",
    "\n",
    "if 21 in my_tuple2:\n",
    "    print(\"21 is in the my tuple\")\n",
    "else:\n",
    "    print(\"there is not 21 in your tuple\")\n",
    "\n",
    "\n",
    "\n",
    "\n",
    "updated_list = [\"a\", \"b\", \"c\"]\n",
    "updated_tuple = tuple(updated_list)\n",
    "print(updated_tuple)\n",
    "print(type(updated_tuple))\n",
    "\n",
    "\n",
    "for letters in updated_tuple:\n",
    "    print(letters)\n",
    "\n"
   ]
  },
  {
   "cell_type": "code",
   "execution_count": 9,
   "id": "cb331d74",
   "metadata": {},
   "outputs": [
    {
     "name": "stdout",
     "output_type": "stream",
     "text": [
      "{'name': 'Naveed', 'age': 22, 'city': 'Nanded'}\n",
      "<class 'dict'>\n",
      "Naveed\n",
      "{'name': 'Naveed', 'age': 22, 'city': 'pune'}\n",
      "{'name': 'Naveed', 'age': 22, 'city': 'pune', 'profession': 'student'}\n",
      "pune\n",
      "{'name': 'Naveed', 'age': 22, 'profession': 'student'}\n",
      "name : Naveed\n",
      "age : 22\n",
      "profession : student\n",
      "dict_keys(['name', 'age', 'profession'])\n",
      "dict_values(['Naveed', 22, 'student'])\n",
      "dict_items([('name', 'Naveed'), ('age', 22), ('profession', 'student')])\n",
      "{'name': 'Naveed', 'profession': 'student'}\n",
      "{}\n"
     ]
    }
   ],
   "source": [
    "my_dict = {\"name\": \"Naveed\",\"age\": 22,\"city\": \"Nanded\"}\n",
    "print(my_dict)\n",
    "print(type(my_dict))\n",
    "print(my_dict[\"name\"])\n",
    "\n",
    "my_dict[\"city\"] = \"pune\"\n",
    "print(my_dict)\n",
    "my_dict[\"profession\"] = \"student\"\n",
    "print(my_dict)\n",
    "\n",
    "my_dict.get(\"city\")\n",
    "\n",
    "print(my_dict.get(\"city\"))  \n",
    "\n",
    "# my_dict.del(\"city\")\n",
    "# print(my_dict)\n",
    "\n",
    "del my_dict[\"city\"]\n",
    "print(my_dict)\n",
    "\n",
    "# for data in my_dict:\n",
    "#     print(data)\n",
    "\n",
    "for key in my_dict:\n",
    "    print(key, \":\", my_dict[key])\n",
    "\n",
    "\n",
    "print(my_dict.keys())\n",
    "print(my_dict.values())\n",
    "print(my_dict.items())\n",
    "\n",
    "my_dict.pop(\"age\")\n",
    "print(my_dict)\n",
    "\n",
    "my_dict.clear()\n",
    "print(my_dict)"
   ]
  },
  {
   "cell_type": "code",
   "execution_count": 26,
   "id": "15cc2fcf",
   "metadata": {},
   "outputs": [
    {
     "name": "stdout",
     "output_type": "stream",
     "text": [
      "hello, My name is Naveed\n",
      "<class 'str'>\n",
      ",\n",
      "h\n",
      "d\n",
      "hell\n",
      "My name is Naveed\n",
      "hello, My name is Naveed\n",
      "HELLO, MY NAME IS NAVEED\n",
      "hello, my name is naveed\n",
      "Hello, My Name Is Naveed\n",
      "['hello,', 'My', 'name', 'is', 'Naveed']\n",
      "hello, My name is Boss\n",
      "True\n",
      "False\n",
      "hello, My name is Bosshello, My name is Naveed\n",
      "hello, My name is Bosshello, My name is Boss\n",
      "22\n",
      "Naveed\n",
      "10\n",
      "True\n"
     ]
    }
   ],
   "source": [
    "my_string = \"hello, My name is Naveed\"\n",
    "print(my_string)\n",
    "print(type(my_string))\n",
    "\n",
    "print(my_string[5])\n",
    "\n",
    "print(my_string[0])\n",
    "print(my_string[-1])\n",
    "\n",
    "print(my_string[0:4])\n",
    "print(my_string[7:])\n",
    "print(my_string[:])\n",
    "\n",
    "print(my_string.upper())\n",
    "print(my_string.lower())\n",
    "print(my_string.title())\n",
    "print(my_string.split())\n",
    "my_string_update = my_string.replace(\"Naveed\", \"Boss\")\n",
    "print(my_string_update)\n",
    "\n",
    "print(\"Boss\" in my_string_update)\n",
    "print(\"python\" in my_string_update)\n",
    "\n",
    "strings3 = my_string_update + my_string\n",
    "print(strings3)\n",
    "\n",
    "print(my_string_update * 2)\n",
    "\n",
    "\n",
    "print(len(my_string_update))\n",
    "print(\"   Naveed   \".strip()) \n",
    "\n",
    "print(my_string.find(\"name\"))\n",
    "print(\"Naveed\".isalpha())            \n"
   ]
  },
  {
   "cell_type": "code",
   "execution_count": 27,
   "id": "ad781700",
   "metadata": {},
   "outputs": [
    {
     "name": "stdout",
     "output_type": "stream",
     "text": [
      "13\n",
      "7\n",
      "30\n",
      "3.3333333333333335\n",
      "1\n",
      "3\n",
      "1000\n",
      "False\n",
      "True\n",
      "True\n",
      "False\n",
      "True\n",
      "False\n"
     ]
    }
   ],
   "source": [
    "a = 10\n",
    "b = 3\n",
    "\n",
    "# Arithmetic\n",
    "print(a + b)\n",
    "print(a - b)\n",
    "print(a * b)\n",
    "print(a / b)\n",
    "print(a % b)\n",
    "print(a // b)\n",
    "print(a ** b)\n",
    "\n",
    "# Comparison\n",
    "print(a == b)\n",
    "print(a > b)\n",
    "print(a != b)\n",
    "\n",
    "# Logical\n",
    "x = True\n",
    "y = False\n",
    "print(x and y)\n",
    "print(x or y)\n",
    "print(not x)\n"
   ]
  },
  {
   "cell_type": "code",
   "execution_count": 35,
   "id": "f955a242",
   "metadata": {},
   "outputs": [
    {
     "name": "stdout",
     "output_type": "stream",
     "text": [
      "1\n",
      "2\n",
      "3\n",
      "4\n",
      "5\n",
      "6\n",
      "7\n",
      "8\n",
      "9\n",
      "10\n",
      "2\n",
      "4\n",
      "6\n",
      "8\n",
      "10\n",
      "12\n",
      "14\n",
      "16\n",
      "18\n"
     ]
    }
   ],
   "source": [
    "for i in range(1, 11):\n",
    "    print(i)\n",
    "\n",
    "\n",
    "for i in range(2, 20, 2):\n",
    "    print(i)\n"
   ]
  },
  {
   "cell_type": "code",
   "execution_count": 36,
   "id": "415bdd20",
   "metadata": {},
   "outputs": [
    {
     "name": "stdout",
     "output_type": "stream",
     "text": [
      "15\n",
      "13\n",
      "11\n",
      "9\n",
      "7\n",
      "5\n",
      "3\n",
      "5\n",
      "10\n",
      "15\n",
      "20\n",
      "25\n",
      "30\n",
      "35\n",
      "40\n",
      "45\n",
      "50\n"
     ]
    }
   ],
   "source": [
    "\n",
    "for i in range(15, 1, -2):\n",
    "    print(i)\n",
    "\n",
    "for i in range(5, 51, 5):\n",
    "    print(i)"
   ]
  },
  {
   "cell_type": "code",
   "execution_count": 37,
   "id": "3b731b37",
   "metadata": {},
   "outputs": [
    {
     "name": "stdout",
     "output_type": "stream",
     "text": [
      "1\n",
      "4\n",
      "9\n",
      "16\n",
      "25\n",
      "36\n",
      "49\n",
      "64\n",
      "81\n",
      "100\n"
     ]
    }
   ],
   "source": [
    "for i in range(1, 11):\n",
    "    print(i**2)"
   ]
  },
  {
   "cell_type": "code",
   "execution_count": 38,
   "id": "32a1cc4f",
   "metadata": {},
   "outputs": [
    {
     "name": "stdout",
     "output_type": "stream",
     "text": [
      "1\n",
      "4\n",
      "9\n",
      "16\n",
      "25\n",
      "36\n",
      "49\n",
      "64\n",
      "81\n",
      "100\n"
     ]
    }
   ],
   "source": [
    "for i in range(1, 11):\n",
    "    print(i**2)\n"
   ]
  },
  {
   "cell_type": "code",
   "execution_count": null,
   "id": "f9f6766f",
   "metadata": {},
   "outputs": [
    {
     "name": "stdout",
     "output_type": "stream",
     "text": [
      "hiii Naveed \n",
      "how are u bro \n",
      "how's you  \n",
      "hey! good evening \n"
     ]
    }
   ],
   "source": [
    "def greet():\n",
    "    print(\"hiii Naveed \")\n",
    "\n",
    "greet()\n",
    "\n",
    "def greet():\n",
    "    print(\"how are u bro \")\n",
    "greet()\n",
    "\n",
    "def greet():\n",
    "    print(\"how's you  \")\n",
    "greet()\n",
    "\n",
    "def greet():\n",
    "    print(\"hey! good evening \")\n",
    "greet()"
   ]
  },
  {
   "cell_type": "code",
   "execution_count": 3,
   "id": "82f790a4",
   "metadata": {},
   "outputs": [
    {
     "name": "stdout",
     "output_type": "stream",
     "text": [
      "Hi Naveed\n",
      "How are you bro?\n",
      "How’s you?\n",
      "Hey! Good evening\n"
     ]
    }
   ],
   "source": [
    "def greet(message):\n",
    "    print(message)\n",
    "\n",
    "greet(\"Hi Naveed\")\n",
    "greet(\"How are you bro?\")\n",
    "greet(\"How’s you?\")\n",
    "greet(\"Hey! Good evening\")\n"
   ]
  },
  {
   "cell_type": "code",
   "execution_count": 5,
   "id": "e86c795f",
   "metadata": {},
   "outputs": [
    {
     "name": "stdout",
     "output_type": "stream",
     "text": [
      "9422895633\n",
      "8007205924\n",
      "7517537201\n",
      "8087526327\n"
     ]
    }
   ],
   "source": [
    "def greet(mobile):\n",
    "    print(mobile)\n",
    "greet(\"9422895633\")\n",
    "greet(\"8007205924\")\n",
    "greet(\"7517537201\")\n",
    "greet(\"8087526327\")"
   ]
  },
  {
   "cell_type": "code",
   "execution_count": 7,
   "id": "6b632c43",
   "metadata": {},
   "outputs": [
    {
     "name": "stdout",
     "output_type": "stream",
     "text": [
      "26\n",
      "25\n",
      "58\n",
      "10\n"
     ]
    }
   ],
   "source": [
    "def add_numbers(a, b):\n",
    "    print(a + b)\n",
    "\n",
    "add_numbers(13, 13)\n",
    "\n",
    "add_numbers(12, 13)\n",
    "\n",
    "add_numbers(45, 13)\n",
    "\n",
    "\n",
    "add_numbers(7, 3)"
   ]
  },
  {
   "cell_type": "code",
   "execution_count": 9,
   "id": "c03fd591",
   "metadata": {},
   "outputs": [
    {
     "name": "stdout",
     "output_type": "stream",
     "text": [
      "square is  144\n"
     ]
    }
   ],
   "source": [
    "number = int(input(\"enter the number you want square of : \"))\n",
    "def find_square(n):\n",
    "    return n*n\n",
    "\n",
    "result = find_square(number)\n",
    "print(\"square is \", result)"
   ]
  },
  {
   "cell_type": "code",
   "execution_count": 10,
   "id": "bae2722b",
   "metadata": {},
   "outputs": [
    {
     "data": {
      "text/plain": [
       "25"
      ]
     },
     "execution_count": 10,
     "metadata": {},
     "output_type": "execute_result"
    }
   ],
   "source": [
    "# number1 = int(input(\"enter the number you want the square of: \"))\n",
    "def find_square(n):\n",
    "    return n*n\n",
    "\n",
    "find_square(5)"
   ]
  },
  {
   "cell_type": "code",
   "execution_count": 15,
   "id": "0527aee6",
   "metadata": {},
   "outputs": [
    {
     "name": "stdout",
     "output_type": "stream",
     "text": [
      "The square of given number :  5  : is 25\n"
     ]
    }
   ],
   "source": [
    "number = int(input(\"Enter the number you want square of :: \"))\n",
    "def find_square(n):\n",
    "    return n*n\n",
    "\n",
    "result = find_square(number)\n",
    "# print(\"the square of given\", number \"is\", result)\n",
    "print(\"The square of given number : \", number, \" : is\", result)\n",
    "\n",
    "\n"
   ]
  },
  {
   "cell_type": "code",
   "execution_count": 4,
   "id": "0abceafb",
   "metadata": {},
   "outputs": [
    {
     "name": "stdout",
     "output_type": "stream",
     "text": [
      "25\n"
     ]
    }
   ],
   "source": [
    "number1 = int(input(\"enter the number your want : \"))\n",
    "\n",
    "def find_square(n):\n",
    "    return n * n\n",
    "\n",
    "find_square(5)\n",
    "result = find_square(number1)\n",
    "print(result)\n"
   ]
  },
  {
   "cell_type": "code",
   "execution_count": 8,
   "id": "617ecd0b",
   "metadata": {},
   "outputs": [
    {
     "name": "stdout",
     "output_type": "stream",
     "text": [
      "Odd\n",
      "Even\n"
     ]
    }
   ],
   "source": [
    "def is_even(num):\n",
    "    if num % 2 == 0:\n",
    "        return \"Even\"\n",
    "    else:\n",
    "        return \"Odd\"\n",
    "    \n",
    "print(is_even(5))\n",
    "print(is_even(4))"
   ]
  },
  {
   "cell_type": "code",
   "execution_count": null,
   "id": "5023718b",
   "metadata": {},
   "outputs": [
    {
     "name": "stdout",
     "output_type": "stream",
     "text": [
      "452.3893421169302\n"
     ]
    }
   ],
   "source": [
    "import math \n",
    "from math import pi \n",
    "\n",
    "def area_of_circle(radius):\n",
    "    area = math.pi * radius * radius\n",
    "    return area\n",
    "\n",
    "print(area_of_circle(12))"
   ]
  },
  {
   "cell_type": "code",
   "execution_count": null,
   "id": "035c9e26",
   "metadata": {},
   "outputs": [
    {
     "name": "stdout",
     "output_type": "stream",
     "text": [
      "153.93804002589985\n"
     ]
    }
   ],
   "source": [
    "    import math \n",
    "    from math import pi \n",
    "\n",
    "    def area_radius(radius):\n",
    "        area = math.pi * radius * radius\n",
    "        return area\n",
    "\n",
    "    print(area_radius(7))"
   ]
  },
  {
   "cell_type": "code",
   "execution_count": 14,
   "id": "f3c92d27",
   "metadata": {},
   "outputs": [
    {
     "name": "stdout",
     "output_type": "stream",
     "text": [
      "78.53981633974483\n"
     ]
    }
   ],
   "source": [
    "from math import * \n",
    "\n",
    "def area__radius(radius):\n",
    "    area = math.pi * radius * radius\n",
    "    return area \n",
    "print(area__radius(5))"
   ]
  },
  {
   "cell_type": "code",
   "execution_count": null,
   "id": "56075388",
   "metadata": {},
   "outputs": [],
   "source": [
    "from math import pi\n",
    "\n",
    "def circumference_of_circle(radius):\n",
    "    return 2 * pi * radius\n",
    "\n",
    "print(circumference_of_circle(10))\n",
    "\n"
   ]
  },
  {
   "cell_type": "code",
   "execution_count": 16,
   "id": "260eea95",
   "metadata": {},
   "outputs": [
    {
     "name": "stdout",
     "output_type": "stream",
     "text": [
      "[1 2 3 4 5 6]\n",
      "<class 'numpy.ndarray'>\n"
     ]
    }
   ],
   "source": [
    "import numpy as np \n",
    "arr1 = np.array([1,2,3,4,5,6])\n",
    "print(arr1)\n",
    "print(type(arr1))"
   ]
  },
  {
   "cell_type": "code",
   "execution_count": null,
   "id": "8dcc9e1f",
   "metadata": {},
   "outputs": [],
   "source": []
  },
  {
   "cell_type": "code",
   "execution_count": 20,
   "id": "7194ee18",
   "metadata": {},
   "outputs": [
    {
     "name": "stdout",
     "output_type": "stream",
     "text": [
      "[5 7 9]\n",
      "<class 'numpy.ndarray'>\n",
      "<class 'numpy.ndarray'>\n"
     ]
    }
   ],
   "source": [
    "import numpy as np \n",
    "arr1 = np.array([1,2,3])\n",
    "arr2 = np.array([4,5,6])\n",
    "print(arr1 + arr2)\n",
    "print(type(arr1))\n",
    "print(type(arr2))"
   ]
  },
  {
   "cell_type": "code",
   "execution_count": 25,
   "id": "f7c7e297",
   "metadata": {},
   "outputs": [
    {
     "name": "stdout",
     "output_type": "stream",
     "text": [
      "[array([5, 7, 9])]\n",
      "<class 'numpy.ndarray'>\n",
      "<class 'numpy.ndarray'>\n"
     ]
    }
   ],
   "source": [
    "import numpy as np \n",
    "arr1 = np.array([1,2,3])\n",
    "arr2 = np.array([4,5,6])\n",
    "arr3 = ([arr1 + arr2])\n",
    "print(arr3)\n",
    "print(type(arr1))\n",
    "print(type(arr2))"
   ]
  },
  {
   "cell_type": "code",
   "execution_count": 24,
   "id": "722f6fe1",
   "metadata": {},
   "outputs": [
    {
     "name": "stdout",
     "output_type": "stream",
     "text": [
      "(array([1, 2, 3]), array([4, 5, 6]))\n",
      "<class 'numpy.ndarray'>\n",
      "<class 'numpy.ndarray'>\n"
     ]
    }
   ],
   "source": [
    "import numpy as np \n",
    "arr1 = np.array([1,2,3])\n",
    "arr2 = np.array([4,5,6])\n",
    "arr3 = (arr1, arr2)\n",
    "print(arr3)\n",
    "print(type(arr1))\n",
    "print(type(arr2))"
   ]
  },
  {
   "cell_type": "code",
   "execution_count": 1,
   "id": "5a30a992",
   "metadata": {},
   "outputs": [
    {
     "name": "stdout",
     "output_type": "stream",
     "text": [
      "[1 2 3 4 5 6]\n",
      "<class 'numpy.ndarray'>\n"
     ]
    }
   ],
   "source": [
    "import numpy as np \n",
    "arr1 = np.array([1,2,3,4,5,6])\n",
    "print(arr1)\n",
    "print(type(arr1))\n",
    "\n"
   ]
  },
  {
   "cell_type": "code",
   "execution_count": null,
   "id": "3880408e",
   "metadata": {},
   "outputs": [],
   "source": [
    "np.arrange"
   ]
  },
  {
   "cell_type": "code",
   "execution_count": 18,
   "id": "2f51c9ae",
   "metadata": {},
   "outputs": [
    {
     "name": "stdout",
     "output_type": "stream",
     "text": [
      "<class 'list'>\n",
      "[ 3  6  9 12]\n",
      "<class 'numpy.ndarray'>\n",
      "[ 5 10 15 20 25 30 35 40 45 50]\n",
      "[0 0 0 0 0]\n",
      "[[0 0 0 0 0 0 0 0 0]\n",
      " [0 0 0 0 0 0 0 0 0]\n",
      " [0 0 0 0 0 0 0 0 0]\n",
      " [0 0 0 0 0 0 0 0 0]\n",
      " [0 0 0 0 0 0 0 0 0]\n",
      " [0 0 0 0 0 0 0 0 0]\n",
      " [0 0 0 0 0 0 0 0 0]\n",
      " [0 0 0 0 0 0 0 0 0]\n",
      " [0 0 0 0 0 0 0 0 0]]\n",
      "[[[1 1]\n",
      "  [1 1]]\n",
      "\n",
      " [[1 1]\n",
      "  [1 1]]]\n"
     ]
    }
   ],
   "source": [
    "import numpy as np\n",
    "my_list = [3, 6, 9, 12]\n",
    "print(type(my_list))\n",
    "\n",
    "arr1 = np.array(my_list)\n",
    "print(arr1)\n",
    "print(type(arr1))\n",
    "\n",
    "p = np.arange(5,51,5)\n",
    "print(p)\n",
    "\n",
    "n = np.zeros((5), dtype = int)\n",
    "print(n)\n",
    "\n",
    "m =np.zeros((9,9), dtype = int)\n",
    "print(m)\n",
    "\n",
    "o = np.ones((2,2,2), dtype = int)\n",
    "print(o)"
   ]
  },
  {
   "cell_type": "code",
   "execution_count": null,
   "id": "39e48d49",
   "metadata": {},
   "outputs": [
    {
     "name": "stdout",
     "output_type": "stream",
     "text": [
      "[10, 20, 30, 40, 50]\n",
      "<class 'list'>\n",
      "[10 20 30 40 50]\n",
      "<class 'numpy.ndarray'>\n",
      "[ 2  4  6  8 10 12 14 16 18 20 22 24 26 28 30 32 34 36 38]\n",
      "[0. 0. 0. 0. 0. 0. 0.]\n",
      "[[1 1 1 1]\n",
      " [1 1 1 1]\n",
      " [1 1 1 1]\n",
      " [1 1 1 1]]\n",
      "[[[0. 0. 0. 0.]\n",
      "  [0. 0. 0. 0.]\n",
      "  [0. 0. 0. 0.]]\n",
      "\n",
      " [[0. 0. 0. 0.]\n",
      "  [0. 0. 0. 0.]\n",
      "  [0. 0. 0. 0.]]]\n"
     ]
    }
   ],
   "source": [
    "my_list = [10, 20, 30, 40, 50]\n",
    "print(my_list)\n",
    "print(type(my_list))\n",
    "\n",
    "arr1 = np.array(my_list)\n",
    "print(arr1)\n",
    "print(type(arr1))\n",
    "\n",
    "\n",
    "m = np.arange(2,4,2)\n",
    "print(m)\n",
    "n = np.zeros((7), dtype = float)\n",
    "print(n)\n",
    "\n",
    "o = np.ones((4,4),dtype = int)\n",
    "print(o)\n",
    "\n",
    "p = np.zeros((2,3,4), dtype = float)\n",
    "print(p)\n",
    "\n",
    "\n"
   ]
  },
  {
   "cell_type": "code",
   "execution_count": null,
   "id": "cfa42ed1",
   "metadata": {},
   "outputs": [],
   "source": [
    "my_list = [7, 14, 21, 28, 35]\n",
    "arr1 = np.array(my_list)\n",
    "print(arr1)\n",
    "\n",
    "    "
   ]
  },
  {
   "cell_type": "code",
   "execution_count": null,
   "id": "c6a44268",
   "metadata": {},
   "outputs": [
    {
     "name": "stdout",
     "output_type": "stream",
     "text": [
      "[[1 2 3]\n",
      " [4 5 6]]\n",
      "shape of the array :  (2, 3)\n"
     ]
    }
   ],
   "source": [
    "import numpy as np\n",
    "arr1 = np.array([[1, 2, 3], [4, 5, 6]])\n",
    "print(arr1)\n",
    "print(\"shape of the array : \", arr1.shape)"
   ]
  },
  {
   "cell_type": "code",
   "execution_count": 28,
   "id": "b11f534f",
   "metadata": {},
   "outputs": [
    {
     "name": "stdout",
     "output_type": "stream",
     "text": [
      "[[1 2 3 4 5 6]\n",
      " [1 2 3 4 5 6]\n",
      " [1 2 3 4 5 6]]\n",
      "shape of the array :  (3, 6)\n"
     ]
    }
   ],
   "source": [
    "import numpy as np\n",
    "arr1 = np.array([[1,2,3,4,5,6], [1,2,3,4,5,6],[1,2,3,4,5,6]])\n",
    "print(arr1)\n",
    "print(\"shape of the array : \", arr1.shape)"
   ]
  },
  {
   "cell_type": "code",
   "execution_count": 30,
   "id": "6f8824e0",
   "metadata": {},
   "outputs": [
    {
     "name": "stdout",
     "output_type": "stream",
     "text": [
      "[[1 2 3 4 5 6]\n",
      " [1 2 3 4 5 6]\n",
      " [1 2 3 4 5 6]\n",
      " [1 2 3 4 5 6]\n",
      " [1 2 3 4 5 6]\n",
      " [1 2 3 4 5 6]]\n",
      "shape of the array :  (6, 6)\n"
     ]
    }
   ],
   "source": [
    "import numpy as np\n",
    "arr1 = np.array([[1,2,3,4,5,6], [1,2,3,4,5,6],[1,2,3,4,5,6],[1,2,3,4,5,6], [1,2,3,4,5,6],[1,2,3,4,5,6]])\n",
    "print(arr1)\n",
    "print(\"shape of the array : \", arr1.shape)"
   ]
  },
  {
   "cell_type": "code",
   "execution_count": 60,
   "id": "64853b8c",
   "metadata": {},
   "outputs": [
    {
     "name": "stdout",
     "output_type": "stream",
     "text": [
      "the Reshaped array of the given array is :  [[1 2 3]\n",
      " [4 5 6]]\n",
      "Reshape of the array is : [[1 2 3]\n",
      " [4 5 6]\n",
      " [1 2 3]\n",
      " [4 5 6]\n",
      " [1 2 3]\n",
      " [4 5 6]\n",
      " [1 2 3]\n",
      " [4 5 6]]\n"
     ]
    }
   ],
   "source": [
    "import numpy as np\n",
    "arr = np.array([1, 2, 3, 4, 5, 6])\n",
    "reshape_arr = arr.reshape(2,3)\n",
    "print(\"the Reshaped array of the given array is : \", reshape_arr)\n",
    "\n",
    "\n",
    "import numpy as np \n",
    "arr1 = np.array([[1,2,3,4,5,6], [1,2,3,4,5,6],[1,2,3,4,5,6], [1,2,3,4,5,6]])\n",
    "reshape_arr = arr1.reshape(8,3)\n",
    "print(\"Reshape of the array is :\", reshape_arr)\n",
    "\n",
    "# question 1 \n",
    "arr2 = np.arange(1,13)\n",
    "reshap = arr2.reshape(3,4)"
   ]
  },
  {
   "cell_type": "code",
   "execution_count": 65,
   "id": "ce6b2f97",
   "metadata": {},
   "outputs": [
    {
     "name": "stdout",
     "output_type": "stream",
     "text": [
      "[[ 1  2  3  4]\n",
      " [ 5  6  7  8]\n",
      " [ 9 10 11 12]]\n",
      "[[ 1  2  3  4]\n",
      " [ 5  6  7  8]\n",
      " [ 9 10 11 12]]\n",
      "the reshaped array :  2\n"
     ]
    }
   ],
   "source": [
    "arr2 = np.arange(1,13)\n",
    "reshapp = arr2.reshape(3,4)\n",
    "print(reshapp)\n",
    "\n",
    "reshappe = arr2.reshape(2,6)\n",
    "print(reshapp)\n",
    "\n",
    "# reshapeee = arr2.reshape(5,5)\n",
    "# print(reshapeee) it prints error cuz it 5* 5 is 10 and in that arr2 we have total 12 elements that is not equal to 12 \n",
    "\n",
    "print(\"the reshaped array : \", reshappe.ndim)"
   ]
  },
  {
   "cell_type": "code",
   "execution_count": 67,
   "id": "061942df",
   "metadata": {},
   "outputs": [
    {
     "name": "stdout",
     "output_type": "stream",
     "text": [
      "[ 10  20  30  40  50  60  70  80  90 100]\n"
     ]
    },
    {
     "ename": "AttributeError",
     "evalue": "'numpy.ndarray' object has no attribute 'index'",
     "output_type": "error",
     "traceback": [
      "\u001b[1;31m---------------------------------------------------------------------------\u001b[0m",
      "\u001b[1;31mAttributeError\u001b[0m                            Traceback (most recent call last)",
      "Cell \u001b[1;32mIn[67], line 5\u001b[0m\n\u001b[0;32m      3\u001b[0m arr \u001b[38;5;241m=\u001b[39m np\u001b[38;5;241m.\u001b[39marange(\u001b[38;5;241m10\u001b[39m, \u001b[38;5;241m101\u001b[39m, \u001b[38;5;241m10\u001b[39m)  \n\u001b[0;32m      4\u001b[0m \u001b[38;5;28mprint\u001b[39m(arr)\n\u001b[1;32m----> 5\u001b[0m \u001b[38;5;28mprint\u001b[39m(arr\u001b[38;5;241m.\u001b[39mindex[\u001b[38;5;241m2\u001b[39m:\u001b[38;5;241m7\u001b[39m])\n",
      "\u001b[1;31mAttributeError\u001b[0m: 'numpy.ndarray' object has no attribute 'index'"
     ]
    }
   ],
   "source": [
    "import numpy as np\n",
    "\n",
    "arr = np.arange(10, 101, 10)  \n",
    "print(arr)\n",
    "print(arr.index[2:7])\n"
   ]
  },
  {
   "cell_type": "code",
   "execution_count": 4,
   "id": "c9d8697b",
   "metadata": {},
   "outputs": [
    {
     "data": {
      "text/plain": [
       "array([[ 1,  3],\n",
       "       [ 5,  7],\n",
       "       [ 9, 11],\n",
       "       [13, 15],\n",
       "       [17, 19],\n",
       "       [21, 23],\n",
       "       [25, 27]])"
      ]
     },
     "execution_count": 4,
     "metadata": {},
     "output_type": "execute_result"
    }
   ],
   "source": [
    "import numpy as np \n",
    "np.arange(1,28,2).reshape(7,2)"
   ]
  },
  {
   "cell_type": "code",
   "execution_count": null,
   "id": "1e147c0b",
   "metadata": {},
   "outputs": [
    {
     "data": {
      "text/plain": [
       "array([[0.13508837, 0.60826001],\n",
       "       [0.96526986, 0.44119996],\n",
       "       [0.57523008, 0.1377559 ],\n",
       "       [0.49596115, 0.88652278],\n",
       "       [0.94945298, 0.09644024],\n",
       "       [0.2202455 , 0.95129946],\n",
       "       [0.40427415, 0.25554071]])"
      ]
     },
     "execution_count": 7,
     "metadata": {},
     "output_type": "execute_result"
    }
   ],
   "source": [
    "import numpy as np\n",
    "np.random.random((7,2))\n"
   ]
  },
  {
   "cell_type": "code",
   "execution_count": 11,
   "id": "57232c68",
   "metadata": {},
   "outputs": [
    {
     "data": {
      "text/plain": [
       "array([1. , 1.5, 2. ])"
      ]
     },
     "execution_count": 11,
     "metadata": {},
     "output_type": "execute_result"
    }
   ],
   "source": [
    "import numpy as np\n",
    "np.linspace(1,2,3)"
   ]
  },
  {
   "cell_type": "code",
   "execution_count": 15,
   "id": "077d2e32",
   "metadata": {},
   "outputs": [
    {
     "data": {
      "text/plain": [
       "array([[1., 0., 0., 0., 0., 0., 0., 0., 0.],\n",
       "       [0., 1., 0., 0., 0., 0., 0., 0., 0.],\n",
       "       [0., 0., 1., 0., 0., 0., 0., 0., 0.],\n",
       "       [0., 0., 0., 1., 0., 0., 0., 0., 0.],\n",
       "       [0., 0., 0., 0., 1., 0., 0., 0., 0.],\n",
       "       [0., 0., 0., 0., 0., 1., 0., 0., 0.],\n",
       "       [0., 0., 0., 0., 0., 0., 1., 0., 0.],\n",
       "       [0., 0., 0., 0., 0., 0., 0., 1., 0.],\n",
       "       [0., 0., 0., 0., 0., 0., 0., 0., 1.]])"
      ]
     },
     "execution_count": 15,
     "metadata": {},
     "output_type": "execute_result"
    }
   ],
   "source": [
    "import numpy as np\n",
    "np.identity(9)"
   ]
  },
  {
   "cell_type": "code",
   "execution_count": 22,
   "id": "50664b44",
   "metadata": {},
   "outputs": [
    {
     "data": {
      "text/plain": [
       "2"
      ]
     },
     "execution_count": 22,
     "metadata": {},
     "output_type": "execute_result"
    }
   ],
   "source": [
    "import numpy as  np\n",
    "# arr1 = np.arange(50,5,2)\n",
    "arr1 = np.array([[1,2,3,4,5,6], [1,2,3,4,5,6],[1,2,3,4,5,6],[1,2,3,4,5,6], [1,2,3,4,5,6],[1,2,3,4,5,6]])\n",
    "arr1.ndim"
   ]
  },
  {
   "cell_type": "code",
   "execution_count": 23,
   "id": "8720caef",
   "metadata": {},
   "outputs": [
    {
     "data": {
      "text/plain": [
       "(6, 6)"
      ]
     },
     "execution_count": 23,
     "metadata": {},
     "output_type": "execute_result"
    }
   ],
   "source": [
    "arr1.shape"
   ]
  },
  {
   "cell_type": "code",
   "execution_count": null,
   "id": "50acd3ef",
   "metadata": {},
   "outputs": [],
   "source": []
  },
  {
   "cell_type": "code",
   "execution_count": 24,
   "id": "5324f173",
   "metadata": {},
   "outputs": [
    {
     "data": {
      "text/plain": [
       "array([[1, 2, 3, 4, 5, 6],\n",
       "       [1, 2, 3, 4, 5, 6],\n",
       "       [1, 2, 3, 4, 5, 6],\n",
       "       [1, 2, 3, 4, 5, 6],\n",
       "       [1, 2, 3, 4, 5, 6],\n",
       "       [1, 2, 3, 4, 5, 6]])"
      ]
     },
     "execution_count": 24,
     "metadata": {},
     "output_type": "execute_result"
    }
   ],
   "source": [
    "arr1"
   ]
  },
  {
   "cell_type": "code",
   "execution_count": 25,
   "id": "bb059ea2",
   "metadata": {},
   "outputs": [
    {
     "data": {
      "text/plain": [
       "36"
      ]
     },
     "execution_count": 25,
     "metadata": {},
     "output_type": "execute_result"
    }
   ],
   "source": [
    "arr1.size"
   ]
  },
  {
   "cell_type": "code",
   "execution_count": 26,
   "id": "b783fdf9",
   "metadata": {},
   "outputs": [
    {
     "data": {
      "text/plain": [
       "4"
      ]
     },
     "execution_count": 26,
     "metadata": {},
     "output_type": "execute_result"
    }
   ],
   "source": [
    "arr1.itemsize"
   ]
  },
  {
   "cell_type": "code",
   "execution_count": 27,
   "id": "c6d64088",
   "metadata": {},
   "outputs": [
    {
     "name": "stdout",
     "output_type": "stream",
     "text": [
      "int32\n"
     ]
    }
   ],
   "source": [
    "print(arr1.dtype)"
   ]
  },
  {
   "cell_type": "code",
   "execution_count": 4,
   "id": "467a8047",
   "metadata": {},
   "outputs": [
    {
     "ename": "NameError",
     "evalue": "name 'arr1' is not defined",
     "output_type": "error",
     "traceback": [
      "\u001b[1;31m---------------------------------------------------------------------------\u001b[0m",
      "\u001b[1;31mNameError\u001b[0m                                 Traceback (most recent call last)",
      "Cell \u001b[1;32mIn[4], line 2\u001b[0m\n\u001b[0;32m      1\u001b[0m \u001b[38;5;66;03m# print((arr1), dtype= str)\u001b[39;00m\n\u001b[1;32m----> 2\u001b[0m arr1\u001b[38;5;241m.\u001b[39mastype(\u001b[38;5;28mfloat\u001b[39m)\n",
      "\u001b[1;31mNameError\u001b[0m: name 'arr1' is not defined"
     ]
    }
   ],
   "source": [
    "# print((arr1), dtype= str)\n",
    "arr1.astype(float)"
   ]
  },
  {
   "cell_type": "code",
   "execution_count": null,
   "id": "22cb367c",
   "metadata": {},
   "outputs": [
    {
     "ename": "TypeError",
     "evalue": "'numpy.ndarray' object is not callable",
     "output_type": "error",
     "traceback": [
      "\u001b[1;31m---------------------------------------------------------------------------\u001b[0m",
      "\u001b[1;31mTypeError\u001b[0m                                 Traceback (most recent call last)",
      "Cell \u001b[1;32mIn[5], line 3\u001b[0m\n\u001b[0;32m      1\u001b[0m \u001b[38;5;28;01mimport\u001b[39;00m \u001b[38;5;21;01mnumpy\u001b[39;00m \u001b[38;5;28;01mas\u001b[39;00m \u001b[38;5;21;01mnp\u001b[39;00m\n\u001b[0;32m      2\u001b[0m arr1 \u001b[38;5;241m=\u001b[39m np\u001b[38;5;241m.\u001b[39marange(\u001b[38;5;241m0\u001b[39m,\u001b[38;5;241m100\u001b[39m)\n\u001b[1;32m----> 3\u001b[0m arr1(\u001b[38;5;241m10\u001b[39m,\u001b[38;5;241m10\u001b[39m)\n",
      "\u001b[1;31mTypeError\u001b[0m: 'numpy.ndarray' object is not callable"
     ]
    }
   ],
   "source": [
    "import numpy as np\n",
    "arr1 = np.arange(0,100)\n",
    "arr1"
   ]
  },
  {
   "cell_type": "code",
   "execution_count": 7,
   "id": "54488468",
   "metadata": {},
   "outputs": [
    {
     "data": {
      "text/plain": [
       "array([[95, 55, 65, 94, 98, 87, 28, 44, 15, 13],\n",
       "       [46, 78, 82, 51, 74, 49, 26, 20, 24, 62],\n",
       "       [49, 86, 41, 38, 32, 44, 35, 87, 97, 26],\n",
       "       [83, 99, 84, 51, 28, 12, 51, 80, 94, 25],\n",
       "       [40, 74, 94, 45, 12, 66, 47, 66, 18, 84],\n",
       "       [60, 48, 25, 46, 38, 11, 62, 49, 30, 36],\n",
       "       [95, 63, 50, 93, 11, 90, 92, 99, 85, 12],\n",
       "       [36, 88, 53, 15, 74, 61, 45, 45, 79, 54],\n",
       "       [12, 83, 97, 65, 67, 76, 25, 92, 92, 41],\n",
       "       [67, 43, 35, 28, 86, 30, 27, 83, 97, 69]])"
      ]
     },
     "execution_count": 7,
     "metadata": {},
     "output_type": "execute_result"
    }
   ],
   "source": [
    "np.random.randint(10,100,(10,10)) "
   ]
  },
  {
   "cell_type": "code",
   "execution_count": 9,
   "id": "206538d5",
   "metadata": {},
   "outputs": [
    {
     "data": {
      "text/plain": [
       "array([[ 0,  1,  2,  3,  4,  5,  6,  7,  8,  9],\n",
       "       [10, 11, 12, 13, 14, 15, 16, 17, 18, 19],\n",
       "       [20, 21, 22, 23, 24, 25, 26, 27, 28, 29],\n",
       "       [30, 31, 32, 33, 34, 35, 36, 37, 38, 39],\n",
       "       [40, 41, 42, 43, 44, 45, 46, 47, 48, 49],\n",
       "       [50, 51, 52, 53, 54, 55, 56, 57, 58, 59],\n",
       "       [60, 61, 62, 63, 64, 65, 66, 67, 68, 69],\n",
       "       [70, 71, 72, 73, 74, 75, 76, 77, 78, 79],\n",
       "       [80, 81, 82, 83, 84, 85, 86, 87, 88, 89],\n",
       "       [90, 91, 92, 93, 94, 95, 96, 97, 98, 99]])"
      ]
     },
     "execution_count": 9,
     "metadata": {},
     "output_type": "execute_result"
    }
   ],
   "source": [
    "mat = np.arange(0,100).reshape(10,10) \n",
    "mat"
   ]
  },
  {
   "cell_type": "code",
   "execution_count": 11,
   "id": "5dae0b98",
   "metadata": {},
   "outputs": [],
   "source": [
    "row = 5\n",
    "column = 4"
   ]
  },
  {
   "cell_type": "code",
   "execution_count": 12,
   "id": "13b023ae",
   "metadata": {},
   "outputs": [
    {
     "data": {
      "text/plain": [
       "5"
      ]
     },
     "execution_count": 12,
     "metadata": {},
     "output_type": "execute_result"
    }
   ],
   "source": [
    "row"
   ]
  },
  {
   "cell_type": "code",
   "execution_count": 13,
   "id": "cf4700cb",
   "metadata": {},
   "outputs": [
    {
     "data": {
      "text/plain": [
       "4"
      ]
     },
     "execution_count": 13,
     "metadata": {},
     "output_type": "execute_result"
    }
   ],
   "source": [
    "column"
   ]
  },
  {
   "cell_type": "code",
   "execution_count": 14,
   "id": "c3802880",
   "metadata": {},
   "outputs": [
    {
     "data": {
      "text/plain": [
       "array([[ 0,  1,  2,  3,  4,  5,  6,  7,  8,  9],\n",
       "       [10, 11, 12, 13, 14, 15, 16, 17, 18, 19],\n",
       "       [20, 21, 22, 23, 24, 25, 26, 27, 28, 29],\n",
       "       [30, 31, 32, 33, 34, 35, 36, 37, 38, 39],\n",
       "       [40, 41, 42, 43, 44, 45, 46, 47, 48, 49],\n",
       "       [50, 51, 52, 53, 54, 55, 56, 57, 58, 59],\n",
       "       [60, 61, 62, 63, 64, 65, 66, 67, 68, 69],\n",
       "       [70, 71, 72, 73, 74, 75, 76, 77, 78, 79],\n",
       "       [80, 81, 82, 83, 84, 85, 86, 87, 88, 89],\n",
       "       [90, 91, 92, 93, 94, 95, 96, 97, 98, 99]])"
      ]
     },
     "execution_count": 14,
     "metadata": {},
     "output_type": "execute_result"
    }
   ],
   "source": [
    "mat"
   ]
  },
  {
   "cell_type": "code",
   "execution_count": 15,
   "id": "72b5ddf0",
   "metadata": {},
   "outputs": [
    {
     "data": {
      "text/plain": [
       "54"
      ]
     },
     "execution_count": 15,
     "metadata": {},
     "output_type": "execute_result"
    }
   ],
   "source": [
    "mat[row,column]"
   ]
  },
  {
   "cell_type": "code",
   "execution_count": 16,
   "id": "861ea2a5",
   "metadata": {},
   "outputs": [
    {
     "data": {
      "text/plain": [
       "array([[ 0,  1,  2,  3,  4,  5,  6,  7,  8,  9],\n",
       "       [10, 11, 12, 13, 14, 15, 16, 17, 18, 19],\n",
       "       [20, 21, 22, 23, 24, 25, 26, 27, 28, 29],\n",
       "       [30, 31, 32, 33, 34, 35, 36, 37, 38, 39],\n",
       "       [40, 41, 42, 43, 44, 45, 46, 47, 48, 49],\n",
       "       [50, 51, 52, 53, 54, 55, 56, 57, 58, 59],\n",
       "       [60, 61, 62, 63, 64, 65, 66, 67, 68, 69],\n",
       "       [70, 71, 72, 73, 74, 75, 76, 77, 78, 79],\n",
       "       [80, 81, 82, 83, 84, 85, 86, 87, 88, 89],\n",
       "       [90, 91, 92, 93, 94, 95, 96, 97, 98, 99]])"
      ]
     },
     "execution_count": 16,
     "metadata": {},
     "output_type": "execute_result"
    }
   ],
   "source": [
    "mat[:]"
   ]
  },
  {
   "cell_type": "code",
   "execution_count": 18,
   "id": "0cf4b875",
   "metadata": {},
   "outputs": [],
   "source": [
    "col = 6"
   ]
  },
  {
   "cell_type": "code",
   "execution_count": 19,
   "id": "15845ca3",
   "metadata": {},
   "outputs": [
    {
     "data": {
      "text/plain": [
       "6"
      ]
     },
     "execution_count": 19,
     "metadata": {},
     "output_type": "execute_result"
    }
   ],
   "source": [
    "col"
   ]
  },
  {
   "cell_type": "code",
   "execution_count": 20,
   "id": "e78b6c61",
   "metadata": {},
   "outputs": [
    {
     "data": {
      "text/plain": [
       "array([60, 61, 62, 63, 64, 65, 66, 67, 68, 69])"
      ]
     },
     "execution_count": 20,
     "metadata": {},
     "output_type": "execute_result"
    }
   ],
   "source": [
    "mat[6]"
   ]
  },
  {
   "cell_type": "code",
   "execution_count": 21,
   "id": "3f10083d",
   "metadata": {},
   "outputs": [
    {
     "data": {
      "text/plain": [
       "67"
      ]
     },
     "execution_count": 21,
     "metadata": {},
     "output_type": "execute_result"
    }
   ],
   "source": [
    "mat[6,7]"
   ]
  },
  {
   "cell_type": "code",
   "execution_count": 22,
   "id": "591302f1",
   "metadata": {},
   "outputs": [
    {
     "data": {
      "text/plain": [
       "array([[ 0,  1,  2,  3,  4,  5,  6,  7,  8,  9],\n",
       "       [10, 11, 12, 13, 14, 15, 16, 17, 18, 19],\n",
       "       [20, 21, 22, 23, 24, 25, 26, 27, 28, 29],\n",
       "       [30, 31, 32, 33, 34, 35, 36, 37, 38, 39],\n",
       "       [40, 41, 42, 43, 44, 45, 46, 47, 48, 49],\n",
       "       [50, 51, 52, 53, 54, 55, 56, 57, 58, 59],\n",
       "       [60, 61, 62, 63, 64, 65, 66, 67, 68, 69],\n",
       "       [70, 71, 72, 73, 74, 75, 76, 77, 78, 79],\n",
       "       [80, 81, 82, 83, 84, 85, 86, 87, 88, 89],\n",
       "       [90, 91, 92, 93, 94, 95, 96, 97, 98, 99]])"
      ]
     },
     "execution_count": 22,
     "metadata": {},
     "output_type": "execute_result"
    }
   ],
   "source": [
    "mat"
   ]
  },
  {
   "cell_type": "code",
   "execution_count": 23,
   "id": "e449e457",
   "metadata": {},
   "outputs": [
    {
     "data": {
      "text/plain": [
       "67"
      ]
     },
     "execution_count": 23,
     "metadata": {},
     "output_type": "execute_result"
    }
   ],
   "source": [
    "mat[6,7]"
   ]
  },
  {
   "cell_type": "code",
   "execution_count": 26,
   "id": "47453ad0",
   "metadata": {},
   "outputs": [
    {
     "data": {
      "text/plain": [
       "array([50, 51, 52, 53, 54, 55, 56, 57, 58, 59])"
      ]
     },
     "execution_count": 26,
     "metadata": {},
     "output_type": "execute_result"
    }
   ],
   "source": [
    "mat[:,col]\n",
    "mat[row,:]"
   ]
  },
  {
   "cell_type": "code",
   "execution_count": 29,
   "id": "b160be96",
   "metadata": {},
   "outputs": [
    {
     "data": {
      "text/plain": [
       "array([ 8, 18, 28, 38, 48, 58, 68, 78, 88, 98])"
      ]
     },
     "execution_count": 29,
     "metadata": {},
     "output_type": "execute_result"
    }
   ],
   "source": [
    "mat[:,8]\n"
   ]
  },
  {
   "cell_type": "code",
   "execution_count": 30,
   "id": "3670f9d4",
   "metadata": {},
   "outputs": [
    {
     "data": {
      "text/plain": [
       "array([[ 0,  1,  2,  3,  4,  5,  6,  7,  8,  9],\n",
       "       [10, 11, 12, 13, 14, 15, 16, 17, 18, 19],\n",
       "       [20, 21, 22, 23, 24, 25, 26, 27, 28, 29],\n",
       "       [30, 31, 32, 33, 34, 35, 36, 37, 38, 39],\n",
       "       [40, 41, 42, 43, 44, 45, 46, 47, 48, 49]])"
      ]
     },
     "execution_count": 30,
     "metadata": {},
     "output_type": "execute_result"
    }
   ],
   "source": [
    "mat[:row]"
   ]
  },
  {
   "cell_type": "code",
   "execution_count": 31,
   "id": "9f886cc9",
   "metadata": {},
   "outputs": [
    {
     "data": {
      "text/plain": [
       "array([[ 0,  1,  2,  3,  4,  5,  6,  7,  8,  9],\n",
       "       [10, 11, 12, 13, 14, 15, 16, 17, 18, 19],\n",
       "       [20, 21, 22, 23, 24, 25, 26, 27, 28, 29],\n",
       "       [30, 31, 32, 33, 34, 35, 36, 37, 38, 39],\n",
       "       [40, 41, 42, 43, 44, 45, 46, 47, 48, 49],\n",
       "       [50, 51, 52, 53, 54, 55, 56, 57, 58, 59],\n",
       "       [60, 61, 62, 63, 64, 65, 66, 67, 68, 69],\n",
       "       [70, 71, 72, 73, 74, 75, 76, 77, 78, 79],\n",
       "       [80, 81, 82, 83, 84, 85, 86, 87, 88, 89],\n",
       "       [90, 91, 92, 93, 94, 95, 96, 97, 98, 99]])"
      ]
     },
     "execution_count": 31,
     "metadata": {},
     "output_type": "execute_result"
    }
   ],
   "source": [
    "mat"
   ]
  },
  {
   "cell_type": "code",
   "execution_count": 32,
   "id": "10bbf51c",
   "metadata": {},
   "outputs": [
    {
     "data": {
      "text/plain": [
       "array([[22, 23],\n",
       "       [32, 33],\n",
       "       [42, 43],\n",
       "       [52, 53]])"
      ]
     },
     "execution_count": 32,
     "metadata": {},
     "output_type": "execute_result"
    }
   ],
   "source": [
    "mat[2:6,2:4]"
   ]
  },
  {
   "cell_type": "code",
   "execution_count": 36,
   "id": "16c33764",
   "metadata": {},
   "outputs": [
    {
     "data": {
      "text/plain": [
       "array([[26, 27, 28],\n",
       "       [36, 37, 38],\n",
       "       [46, 47, 48],\n",
       "       [56, 57, 58],\n",
       "       [66, 67, 68],\n",
       "       [76, 77, 78],\n",
       "       [86, 87, 88]])"
      ]
     },
     "execution_count": 36,
     "metadata": {},
     "output_type": "execute_result"
    }
   ],
   "source": [
    "mat[2:-1, 6:9]"
   ]
  },
  {
   "cell_type": "code",
   "execution_count": 37,
   "id": "45759183",
   "metadata": {},
   "outputs": [
    {
     "data": {
      "text/plain": [
       "array([-10.        ,  -7.77777778,  -5.55555556,  -3.33333333,\n",
       "        -1.11111111,   1.11111111,   3.33333333,   5.55555556,\n",
       "         7.77777778,  10.        ])"
      ]
     },
     "execution_count": 37,
     "metadata": {},
     "output_type": "execute_result"
    }
   ],
   "source": [
    "np.linspace(-10,10,10)"
   ]
  },
  {
   "cell_type": "code",
   "execution_count": 40,
   "id": "48251af8",
   "metadata": {},
   "outputs": [
    {
     "data": {
      "text/plain": [
       "array([[1., 0., 0., 0., 0.],\n",
       "       [0., 1., 0., 0., 0.],\n",
       "       [0., 0., 1., 0., 0.],\n",
       "       [0., 0., 0., 1., 0.],\n",
       "       [0., 0., 0., 0., 1.]])"
      ]
     },
     "execution_count": 40,
     "metadata": {},
     "output_type": "execute_result"
    }
   ],
   "source": [
    "np.eye(5)"
   ]
  },
  {
   "cell_type": "code",
   "execution_count": null,
   "id": "1a1674d6",
   "metadata": {},
   "outputs": [
    {
     "name": "stdout",
     "output_type": "stream",
     "text": [
      "int32\n",
      "int32\n"
     ]
    }
   ],
   "source": [
    "x = np.array([33,22,2.5], dtype = int)\n",
    "print(x.dtype)\n",
    "\n",
    "\n",
    "y = x.astype(int)\n",
    "print(y.dtype)\n",
    "\n"
   ]
  },
  {
   "cell_type": "code",
   "execution_count": 65,
   "id": "3c8a599a",
   "metadata": {},
   "outputs": [
    {
     "name": "stdout",
     "output_type": "stream",
     "text": [
      "False\n"
     ]
    }
   ],
   "source": [
    "user = input(\"enter the number \").lower() ==\"true\"\n",
    "print(user)"
   ]
  },
  {
   "cell_type": "code",
   "execution_count": 66,
   "id": "9934b70a",
   "metadata": {},
   "outputs": [
    {
     "data": {
      "text/plain": [
       "16"
      ]
     },
     "execution_count": 66,
     "metadata": {},
     "output_type": "execute_result"
    }
   ],
   "source": [
    "mat[1,6]"
   ]
  },
  {
   "cell_type": "code",
   "execution_count": 67,
   "id": "b49358e3",
   "metadata": {},
   "outputs": [
    {
     "data": {
      "text/plain": [
       "array([[10, 11, 12, 13, 14, 15, 16, 17, 18, 19],\n",
       "       [20, 21, 22, 23, 24, 25, 26, 27, 28, 29],\n",
       "       [30, 31, 32, 33, 34, 35, 36, 37, 38, 39],\n",
       "       [40, 41, 42, 43, 44, 45, 46, 47, 48, 49],\n",
       "       [50, 51, 52, 53, 54, 55, 56, 57, 58, 59]])"
      ]
     },
     "execution_count": 67,
     "metadata": {},
     "output_type": "execute_result"
    }
   ],
   "source": [
    "mat[1:6]"
   ]
  },
  {
   "cell_type": "code",
   "execution_count": 68,
   "id": "f40ce143",
   "metadata": {},
   "outputs": [
    {
     "data": {
      "text/plain": [
       "1226879597040"
      ]
     },
     "execution_count": 68,
     "metadata": {},
     "output_type": "execute_result"
    }
   ],
   "source": [
    "id(mat)"
   ]
  },
  {
   "cell_type": "code",
   "execution_count": 69,
   "id": "cbcd318e",
   "metadata": {},
   "outputs": [
    {
     "data": {
      "text/plain": [
       "array([ 0,  1,  2,  3,  4,  5,  6,  7,  8,  9, 10, 11, 12, 13, 14, 15, 16,\n",
       "       17, 18, 19, 20, 21, 22, 23, 24, 25, 26, 27, 28, 29, 30, 31, 32, 33,\n",
       "       34, 35, 36, 37, 38, 39, 40, 41, 42, 43, 44, 45, 46, 47, 48, 49])"
      ]
     },
     "execution_count": 69,
     "metadata": {},
     "output_type": "execute_result"
    }
   ],
   "source": [
    "mat[mat<50]"
   ]
  },
  {
   "cell_type": "code",
   "execution_count": 70,
   "id": "11777581",
   "metadata": {},
   "outputs": [
    {
     "data": {
      "text/plain": [
       "array([51, 52, 53, 54, 55, 56, 57, 58, 59, 60, 61, 62, 63, 64, 65, 66, 67,\n",
       "       68, 69, 70, 71, 72, 73, 74, 75, 76, 77, 78, 79, 80, 81, 82, 83, 84,\n",
       "       85, 86, 87, 88, 89, 90, 91, 92, 93, 94, 95, 96, 97, 98, 99])"
      ]
     },
     "execution_count": 70,
     "metadata": {},
     "output_type": "execute_result"
    }
   ],
   "source": [
    "mat[mat>50]"
   ]
  },
  {
   "cell_type": "code",
   "execution_count": 71,
   "id": "73fc9a03",
   "metadata": {},
   "outputs": [
    {
     "data": {
      "text/plain": [
       "array([ 0,  1,  2,  3,  4,  5,  6,  7,  8,  9, 10, 11, 12, 13, 14, 15, 16,\n",
       "       17, 18, 19, 20, 21, 22, 23, 24, 25, 26, 27, 28, 29, 30, 31, 32, 33,\n",
       "       34, 35, 36, 37, 38, 39])"
      ]
     },
     "execution_count": 71,
     "metadata": {},
     "output_type": "execute_result"
    }
   ],
   "source": [
    "mat[mat<40]"
   ]
  },
  {
   "cell_type": "code",
   "execution_count": 72,
   "id": "4069c4a4",
   "metadata": {},
   "outputs": [
    {
     "data": {
      "text/plain": [
       "array([61, 62, 63, 64, 65, 66, 67, 68, 69, 70, 71, 72, 73, 74, 75, 76, 77,\n",
       "       78, 79, 80, 81, 82, 83, 84, 85, 86, 87, 88, 89, 90, 91, 92, 93, 94,\n",
       "       95, 96, 97, 98, 99])"
      ]
     },
     "execution_count": 72,
     "metadata": {},
     "output_type": "execute_result"
    }
   ],
   "source": [
    "mat[mat>60]"
   ]
  },
  {
   "cell_type": "code",
   "execution_count": null,
   "id": "38e43169",
   "metadata": {},
   "outputs": [
    {
     "name": "stdout",
     "output_type": "stream",
     "text": [
      "[0 1 2 3 4 5 6 7 8 9]\n",
      "[[0. 0. 0. 0.]\n",
      " [0. 0. 0. 0.]\n",
      " [0. 0. 0. 0.]]\n",
      "[[1. 1. 1.]\n",
      " [1. 1. 1.]]\n",
      "[[0.66991251 0.84021703]\n",
      " [0.77972845 0.86041065]]\n",
      "[11 43  9 34 31]\n"
     ]
    }
   ],
   "source": [
    "import numpy as np \n",
    "# 1st \n",
    "a = np.arange(0,10)\n",
    "print(a)\n",
    "\n",
    "# 2nd\n",
    "b = np.zeros((3,4))\n",
    "print(b)\n",
    "\n",
    "# 3rd\n",
    "c = np.ones((2,3))\n",
    "print(c)\n",
    "\n",
    "# 4th\n",
    "d = np.random.rand(2,2)\n",
    "print(d)\n",
    "\n",
    "# 5th\n",
    "e = np.random.randint(5,50,5)\n",
    "print(e)\n",
    "\n"
   ]
  },
  {
   "cell_type": "code",
   "execution_count": null,
   "id": "c9f3bcf2",
   "metadata": {},
   "outputs": [
    {
     "name": "stdout",
     "output_type": "stream",
     "text": [
      "[[ 0  1  2  3  4  5  6  7  8  9]\n",
      " [10 11 12 13 14 15 16 17 18 19]\n",
      " [20 21 22 23 24 25 26 27 28 29]\n",
      " [30 31 32 33 34 35 36 37 38 39]\n",
      " [40 41 42 43 44 45 46 47 48 49]\n",
      " [50 51 52 53 54 55 56 57 58 59]\n",
      " [60 61 62 63 64 65 66 67 68 69]\n",
      " [70 71 72 73 74 75 76 77 78 79]\n",
      " [80 81 82 83 84 85 86 87 88 89]\n",
      " [90 91 92 93 94 95 96 97 98 99]]\n",
      "99\n",
      "0\n",
      "[[ 0  1  2  3]\n",
      " [10 11 12 13]\n",
      " [20 21 22 23]]\n",
      "56\n"
     ]
    }
   ],
   "source": [
    "# 6 th \n",
    "f = np.arange(0,100).reshape(10,10) \n",
    "print(f)\n",
    "\n",
    "# 7th \n",
    "print(f.max())\n",
    "\n",
    "# 8th \n",
    "print(f.min())\n",
    "\n",
    "# 9th \n",
    "print(f[0:3, 0:4])\n",
    "\n",
    "# 10th \n",
    "print(f[5,6])\n",
    "\n",
    "\n"
   ]
  },
  {
   "cell_type": "code",
   "execution_count": 33,
   "id": "a219a3b3",
   "metadata": {},
   "outputs": [
    {
     "name": "stdout",
     "output_type": "stream",
     "text": [
      "[450 460 470 480 490 500 510 520 530 540]\n",
      "49.5\n",
      "[450 460 470 480 490 500 510 520 530 540]\n",
      "[ 45 145 245 345 445 545 645 745 845 945]\n",
      "int32\n",
      "float64\n"
     ]
    }
   ],
   "source": [
    "# 11th \n",
    "print(sum(f))\n",
    "# for this sum i am getting output as [450 460 470 480 490 500 510 520 530 540]\n",
    "# 12th\n",
    "print(f.mean())\n",
    "\n",
    "# 13th \n",
    "print(f.sum(axis=0)) \n",
    "# for this also output is same [450 460 470 480 490 500 510 520 530 540]\n",
    "\n",
    "# 14th \n",
    "print(f.sum(axis=1))\n",
    "# outputfor htis is [ 45 145 245 345 445 545 645 745 845 945]\n",
    "\n",
    "# 15th \n",
    "print(f.dtype)\n",
    "g = f.astype(float)\n",
    "print(g.dtype)"
   ]
  },
  {
   "cell_type": "code",
   "execution_count": null,
   "id": "6e70c692",
   "metadata": {},
   "outputs": [
    {
     "name": "stdout",
     "output_type": "stream",
     "text": [
      "[[ 0  1  2  3  4  5  6  7  8  9]\n",
      " [10 11 12 13 14 15 16 17 18 19]\n",
      " [20 21 22 23 24 25 26 27 28 29]\n",
      " [30 31 32 33 34 35 36 37 38 39]\n",
      " [40 41 42 43 44 45 46 47 48 49]\n",
      " [50 51 52 53 54 55 56 57 58 59]\n",
      " [60 61 62 63 64 65 66 67 68 69]\n",
      " [70 71 72 73 74 75 76 77 78 79]\n",
      " [80 81 82 83 84 85 86 87 88 89]\n",
      " [90 91 92 93 94 95 96 97 98 99]]\n",
      "Total Sum: 4950\n",
      "Sum of 3rd Column: 510\n",
      "Sum of 4th Row: 345\n",
      "Sum of Sliced Part: 138\n"
     ]
    }
   ],
   "source": [
    "import numpy as np\n",
    "\n",
    "f = np.arange(0, 100).reshape(10, 10)\n",
    "print(f)\n",
    "\n",
    "# 1. Total Sum\n",
    "print(\"Total Sum:\", f.sum())\n",
    "\n",
    "# 2. Sum of 3rd Column (index 2)\n",
    "print(\"Sum of 3rd Column:\", f[:, 2].sum())\n",
    "\n",
    "# 3. Sum of 4th Row (index 3)\n",
    "print(\"Sum of 4th Row:\", f[3, :].sum())\n",
    "\n",
    "# 4. Sum of Sliced Part (First 3 rows, First 4 columns)\n",
    "print(\"Sum of Sliced Part:\", f[0:3, 0:4].sum())\n",
    "\n"
   ]
  },
  {
   "cell_type": "code",
   "execution_count": null,
   "id": "0edfbbf1",
   "metadata": {},
   "outputs": [
    {
     "name": "stdout",
     "output_type": "stream",
     "text": [
      "[ 0  1  2  3  4  5  6  7  8  9 10 11 12 13 14 15 16 17 18 19 20 21 22 23\n",
      " 24 25 26 27 28 29 30 31 32 33 34 35 36 37 38 39 40 41 42 43 44 45 46 47\n",
      " 48 49 50 51 52 53 54 55 56 57 58 59 60 61 62 63 64 65 66 67 68 69 70 71\n",
      " 72 73 74 75 76 77 78 79 80 81 82 83 84 85 86 87 88 89 90 91 92 93 94 95\n",
      " 96 97 98 99]\n",
      "[[ 0 10 20 30 40 50 60 70 80 90]\n",
      " [ 1 11 21 31 41 51 61 71 81 91]\n",
      " [ 2 12 22 32 42 52 62 72 82 92]\n",
      " [ 3 13 23 33 43 53 63 73 83 93]\n",
      " [ 4 14 24 34 44 54 64 74 84 94]\n",
      " [ 5 15 25 35 45 55 65 75 85 95]\n",
      " [ 6 16 26 36 46 56 66 76 86 96]\n",
      " [ 7 17 27 37 47 57 67 77 87 97]\n",
      " [ 8 18 28 38 48 58 68 78 88 98]\n",
      " [ 9 19 29 39 49 59 69 79 89 99]]\n",
      "28.86607004772212\n",
      "[[  0   7  14  21  28  35  42  49  56  63]\n",
      " [ 70  77  84  91  98 105 112 119 126 133]\n",
      " [140 147 154 161 168 175 182 189 196 203]\n",
      " [210 217 224 231 238 245 252 259 266 273]\n",
      " [280 287 294 301 308 315 322 329 336 343]\n",
      " [350 357 364 371 378 385 392 399 406 413]\n",
      " [420 427 434 441 448 455 462 469 476 483]\n",
      " [490 497 504 511 518 525 532 539 546 553]\n",
      " [560 567 574 581 588 595 602 609 616 623]\n",
      " [630 637 644 651 658 665 672 679 686 693]]\n",
      "[[ 0  1  2  3  4  5  6  7  8  9]\n",
      " [10 11 12 13 14 15 16 17 18 19]\n",
      " [20 21 22 23 24 25 26 27 28 29]\n",
      " [30 31 32 33 34 35 36 37 38 39]\n",
      " [40 41 42 43 44 45 46 47 48 49]\n",
      " [50  0  0  0  0  0  0  0  0  0]\n",
      " [ 0  0  0  0  0  0  0  0  0  0]\n",
      " [ 0  0  0  0  0  0  0  0  0  0]\n",
      " [ 0  0  0  0  0  0  0  0  0  0]\n",
      " [ 0  0  0  0  0  0  0  0  0  0]]\n"
     ]
    }
   ],
   "source": [
    "print(f.flatten())\n",
    "print(f.T)\n",
    "print(f.std())\n",
    "print(f * 7)\n",
    "f[f > 50] = 0 \n",
    "print(f)"
   ]
  },
  {
   "cell_type": "code",
   "execution_count": 44,
   "id": "38b11c9b",
   "metadata": {},
   "outputs": [
    {
     "name": "stdout",
     "output_type": "stream",
     "text": [
      "[[ 0  1  2  3  4  5  6  7  8  9]\n",
      " [10 11 12 13 14 15 16 17 18 19]\n",
      " [20 21 22 23 24 25 26 27 28 29]\n",
      " [30 31 32 33 34 35 36 37 38 39]\n",
      " [40 41 42 43 44 45 46 47 48 49]\n",
      " [50 51 52 53 54 55 56 57 58 59]\n",
      " [60 61 62 63 64 65 66 67 68 69]\n",
      " [70 71 72 73 74 75 76 77 78 79]\n",
      " [80 81 82 83 84 85 86 87 88 89]\n",
      " [90 91 92 93 94 95 96 97 98 99]]\n"
     ]
    }
   ],
   "source": [
    "f = np.arange(0,100).reshape(10,10)\n",
    "print(f)"
   ]
  },
  {
   "cell_type": "code",
   "execution_count": 5,
   "id": "c16e1bbf",
   "metadata": {},
   "outputs": [
    {
     "ename": "NameError",
     "evalue": "name 'f' is not defined",
     "output_type": "error",
     "traceback": [
      "\u001b[1;31m---------------------------------------------------------------------------\u001b[0m",
      "\u001b[1;31mNameError\u001b[0m                                 Traceback (most recent call last)",
      "Cell \u001b[1;32mIn[5], line 3\u001b[0m\n\u001b[0;32m      1\u001b[0m \u001b[38;5;66;03m# a = [40 +41+42+ 43+ 44+ 45+ 46+ 47+ 48+ 49]\u001b[39;00m\n\u001b[0;32m      2\u001b[0m \u001b[38;5;66;03m# print(sum(a))  total = 445\u001b[39;00m\n\u001b[1;32m----> 3\u001b[0m \u001b[38;5;28mprint\u001b[39m(f[\u001b[38;5;241m4\u001b[39m, :]\u001b[38;5;241m.\u001b[39msum())\n\u001b[0;32m      5\u001b[0m \u001b[38;5;66;03m# Sum of sliced part (Example: row 2 to 4, column 3 to 5)\u001b[39;00m\n\u001b[0;32m      6\u001b[0m \u001b[38;5;28mprint\u001b[39m(f[\u001b[38;5;241m1\u001b[39m:\u001b[38;5;241m4\u001b[39m, \u001b[38;5;241m2\u001b[39m:\u001b[38;5;241m5\u001b[39m]\u001b[38;5;241m.\u001b[39msum())\n",
      "\u001b[1;31mNameError\u001b[0m: name 'f' is not defined"
     ]
    }
   ],
   "source": [
    "# a = [40 +41+42+ 43+ 44+ 45+ 46+ 47+ 48+ 49]\n",
    "# print(sum(a))  total = 445\n",
    "print(f[4, :].sum())\n",
    "\n",
    "# Sum of sliced part (Example: row 2 to 4, column 3 to 5)\n",
    "print(f[1:4, 2:5].sum())\n",
    "\n",
    "print(np.count_nonzero(f)) # counts non zero values in the matix it will print all the values outer than zero \n",
    "\n",
    "print((f > 30).any())  #it will check if there is the value in the matrix greater than the number then it will print true if not false\n",
    "\n",
    "a = np.array([[1, 2, 3], [4, 5, 6]])\n",
    "print(a.shape)\n",
    "\n"
   ]
  },
  {
   "cell_type": "code",
   "execution_count": null,
   "id": "65997065",
   "metadata": {},
   "outputs": [
    {
     "name": "stdout",
     "output_type": "stream",
     "text": [
      "[ 0  1  2  3  4  5  6  7  8  9 10 11 12 13 14 15 16 17 18 19 20 21 22 23\n",
      " 24 25 26 27 28 29 30 31 32 33 34 35 36 37 38 39 40 41 42 43 44 45 46 47\n",
      " 48 49 50 51 52 53 54 55 56 57 58 59 60 61 62 63 64 65 66 67 68 69 70 71\n",
      " 72 73 74 75 76 77 78 79 80 81 82 83 84 85 86 87 88 89 90 91 92 93 94 95\n",
      " 96 97 98 99]\n",
      "99\n",
      "[   0    1    3    6   10   15   21   28   36   45   55   66   78   91\n",
      "  105  120  136  153  171  190  210  231  253  276  300  325  351  378\n",
      "  406  435  465  496  528  561  595  630  666  703  741  780  820  861\n",
      "  903  946  990 1035 1081 1128 1176 1225 1275 1326 1378 1431 1485 1540\n",
      " 1596 1653 1711 1770 1830 1891 1953 2016 2080 2145 2211 2278 2346 2415\n",
      " 2485 2556 2628 2701 2775 2850 2926 3003 3081 3160 3240 3321 3403 3486\n",
      " 3570 3655 3741 3828 3916 4005 4095 4186 4278 4371 4465 4560 4656 4753\n",
      " 4851 4950]\n",
      "[[   0    1    4    9   16   25   36   49   64   81]\n",
      " [ 100  121  144  169  196  225  256  289  324  361]\n",
      " [ 400  441  484  529  576  625  676  729  784  841]\n",
      " [ 900  961 1024 1089 1156 1225 1296 1369 1444 1521]\n",
      " [1600 1681 1764 1849 1936 2025 2116 2209 2304 2401]\n",
      " [2500 2601 2704 2809 2916 3025 3136 3249 3364 3481]\n",
      " [3600 3721 3844 3969 4096 4225 4356 4489 4624 4761]\n",
      " [4900 5041 5184 5329 5476 5625 5776 5929 6084 6241]\n",
      " [6400 6561 6724 6889 7056 7225 7396 7569 7744 7921]\n",
      " [8100 8281 8464 8649 8836 9025 9216 9409 9604 9801]]\n",
      "[[0.         1.         1.41421356 1.73205081 2.         2.23606798\n",
      "  2.44948974 2.64575131 2.82842712 3.        ]\n",
      " [3.16227766 3.31662479 3.46410162 3.60555128 3.74165739 3.87298335\n",
      "  4.         4.12310563 4.24264069 4.35889894]\n",
      " [4.47213595 4.58257569 4.69041576 4.79583152 4.89897949 5.\n",
      "  5.09901951 5.19615242 5.29150262 5.38516481]\n",
      " [5.47722558 5.56776436 5.65685425 5.74456265 5.83095189 5.91607978\n",
      "  6.         6.08276253 6.164414   6.244998  ]\n",
      " [6.32455532 6.40312424 6.4807407  6.55743852 6.63324958 6.70820393\n",
      "  6.78232998 6.8556546  6.92820323 7.        ]\n",
      " [7.07106781 7.14142843 7.21110255 7.28010989 7.34846923 7.41619849\n",
      "  7.48331477 7.54983444 7.61577311 7.68114575]\n",
      " [7.74596669 7.81024968 7.87400787 7.93725393 8.         8.06225775\n",
      "  8.1240384  8.18535277 8.24621125 8.30662386]\n",
      " [8.36660027 8.42614977 8.48528137 8.54400375 8.60232527 8.66025404\n",
      "  8.71779789 8.77496439 8.83176087 8.88819442]\n",
      " [8.94427191 9.         9.05538514 9.11043358 9.16515139 9.21954446\n",
      "  9.2736185  9.32737905 9.38083152 9.43398113]\n",
      " [9.48683298 9.53939201 9.59166305 9.64365076 9.69535971 9.74679434\n",
      "  9.79795897 9.8488578  9.89949494 9.94987437]]\n"
     ]
    }
   ],
   "source": [
    "print(np.unique(f)) # if there number more than one time it will print \n",
    "\n",
    "print(np.argmax(f)) # prints highest number \n",
    "\n",
    "print(np.cumsum(f)) #cummulative sum means adding sum of the current number to the next one \n",
    "\n",
    "mat2 = np.arange(0, 100).reshape(10, 10)\n",
    "print(f * mat2)  # multiply two matrices \n",
    "\n",
    "\n",
    "print(np.sqrt(f)) # square root of the matrix \n",
    "\n",
    "\n"
   ]
  },
  {
   "cell_type": "code",
   "execution_count": 4,
   "id": "f0c2d31b",
   "metadata": {},
   "outputs": [
    {
     "ename": "TypeError",
     "evalue": "'list' object is not callable",
     "output_type": "error",
     "traceback": [
      "\u001b[1;31m---------------------------------------------------------------------------\u001b[0m",
      "\u001b[1;31mTypeError\u001b[0m                                 Traceback (most recent call last)",
      "Cell \u001b[1;32mIn[4], line 3\u001b[0m\n\u001b[0;32m      1\u001b[0m \u001b[38;5;28mset\u001b[39m\u001b[38;5;241m=\u001b[39m([\u001b[38;5;241m1\u001b[39m, \u001b[38;5;241m2\u001b[39m, \u001b[38;5;241m3\u001b[39m])\n\u001b[0;32m      2\u001b[0m \u001b[38;5;28mset\u001b[39m \u001b[38;5;241m=\u001b[39m([\u001b[38;5;241m3\u001b[39m, \u001b[38;5;241m1\u001b[39m, \u001b[38;5;241m2\u001b[39m])\n\u001b[1;32m----> 3\u001b[0m \u001b[38;5;28mset\u001b[39m([\u001b[38;5;241m1\u001b[39m, \u001b[38;5;241m2\u001b[39m, \u001b[38;5;241m3\u001b[39m]) \u001b[38;5;241m==\u001b[39m \u001b[38;5;28mset\u001b[39m([\u001b[38;5;241m3\u001b[39m, \u001b[38;5;241m1\u001b[39m, \u001b[38;5;241m2\u001b[39m])\n",
      "\u001b[1;31mTypeError\u001b[0m: 'list' object is not callable"
     ]
    }
   ],
   "source": [
    "set=([1, 2, 3])\n",
    "set =([3, 1, 2])\n",
    "set([1, 2, 3]) == set([3, 1, 2])\n",
    "\n"
   ]
  },
  {
   "cell_type": "code",
   "execution_count": 12,
   "id": "53fa3927",
   "metadata": {},
   "outputs": [
    {
     "name": "stdout",
     "output_type": "stream",
     "text": [
      "(2, 3)\n"
     ]
    },
    {
     "data": {
      "text/plain": [
       "array([[1, 2],\n",
       "       [3, 4]])"
      ]
     },
     "execution_count": 12,
     "metadata": {},
     "output_type": "execute_result"
    }
   ],
   "source": [
    "import numpy as np\n",
    "a = np.array([[1, 2, 3], [4, 5, 6]])\n",
    "print(a.shape)\n",
    "a = np.array([1, 2, 3]) + np.array([4, 5, 6])\n",
    "b = np.eye(3)\n",
    "b\n",
    "c = np.array([[1,2], [3,4]])\n",
    "c"
   ]
  },
  {
   "cell_type": "code",
   "execution_count": 13,
   "id": "94d44a1c",
   "metadata": {},
   "outputs": [
    {
     "data": {
      "text/plain": [
       "['a', 'b', 'c']"
      ]
     },
     "execution_count": 13,
     "metadata": {},
     "output_type": "execute_result"
    }
   ],
   "source": [
    "d =  list(\"abc\")\n",
    "d"
   ]
  },
  {
   "cell_type": "code",
   "execution_count": 15,
   "id": "0cb21503",
   "metadata": {},
   "outputs": [
    {
     "data": {
      "text/plain": [
       "11"
      ]
     },
     "execution_count": 15,
     "metadata": {},
     "output_type": "execute_result"
    }
   ],
   "source": [
    "len(\"hello world\")"
   ]
  },
  {
   "cell_type": "code",
   "execution_count": 21,
   "id": "e9f990df",
   "metadata": {},
   "outputs": [
    {
     "name": "stdout",
     "output_type": "stream",
     "text": [
      "False\n",
      "3\n"
     ]
    },
    {
     "data": {
      "text/plain": [
       "('abc', str)"
      ]
     },
     "execution_count": 21,
     "metadata": {},
     "output_type": "execute_result"
    }
   ],
   "source": [
    "a = bool([ ])\n",
    "print(a)\n",
    "\n",
    "S = {1, 2, 2, 3}\n",
    "print(len(S))\n",
    "\n",
    "# def greet():\n",
    "    # return\n",
    "# greet(\"abc\")\n",
    "\n",
    "a = (\"abc\", str)\n",
    "a\n"
   ]
  },
  {
   "cell_type": "code",
   "execution_count": 23,
   "id": "3b930891",
   "metadata": {},
   "outputs": [
    {
     "name": "stderr",
     "output_type": "stream",
     "text": [
      "2025-07-05 10:59:36.374 \n",
      "  \u001b[33m\u001b[1mWarning:\u001b[0m to view this Streamlit app on a browser, run it with the following\n",
      "  command:\n",
      "\n",
      "    streamlit run c:\\ProgramData\\anaconda3\\Lib\\site-packages\\ipykernel_launcher.py [ARGUMENTS]\n"
     ]
    }
   ],
   "source": [
    "import streamlit as st\n",
    "st.write(\"good morning guys\")"
   ]
  },
  {
   "cell_type": "code",
   "execution_count": 24,
   "id": "9b84ff7b",
   "metadata": {},
   "outputs": [
    {
     "data": {
      "text/plain": [
       "DeltaGenerator()"
      ]
     },
     "execution_count": 24,
     "metadata": {},
     "output_type": "execute_result"
    }
   ],
   "source": [
    "import streamlit as st\n",
    "import numpy as np\n",
    "import pandas as pd\n",
    "import matplotlib.pyplot as plt\n",
    "\n",
    "st.set_page_config(page_title=\"Simple Data Visualizer\", page_icon=\"📊\", layout=\"centered\")\n",
    "\n",
    "st.title(\"📊 Simple Data Visualizer\")\n",
    "\n",
    "st.sidebar.header(\"Customize Data\")\n",
    "num_points = st.sidebar.slider(\"Number of Data Points\", min_value=10, max_value=200, value=50)\n",
    "noise_level = st.sidebar.slider(\"Noise Level\", min_value=0.0, max_value=1.0, value=0.2)\n",
    "\n",
    "# Generate Data\n",
    "x = np.linspace(0, 10, num_points)\n",
    "y = np.sin(x) + np.random.normal(0, noise_level, num_points)\n",
    "\n",
    "data = pd.DataFrame({\"X\": x, \"Y\": y})\n",
    "\n",
    "st.subheader(\"📄 Data Preview\")\n",
    "st.dataframe(data.head())\n",
    "\n",
    "st.subheader(\"📈 Line Chart\")\n",
    "st.line_chart(data.set_index(\"X\"))\n",
    "\n",
    "st.subheader(\"📉 Matplotlib Plot\")\n",
    "fig, ax = plt.subplots()\n",
    "ax.plot(x, y, marker='o', color='green')\n",
    "ax.set_title(\"Sine Wave with Noise\")\n",
    "st.pyplot(fig)\n",
    "\n",
    "st.success(\"✅ Visualization Complete!\")\n",
    "\n"
   ]
  }
 ],
 "metadata": {
  "kernelspec": {
   "display_name": "base",
   "language": "python",
   "name": "python3"
  },
  "language_info": {
   "codemirror_mode": {
    "name": "ipython",
    "version": 3
   },
   "file_extension": ".py",
   "mimetype": "text/x-python",
   "name": "python",
   "nbconvert_exporter": "python",
   "pygments_lexer": "ipython3",
   "version": "3.12.7"
  }
 },
 "nbformat": 4,
 "nbformat_minor": 5
}
