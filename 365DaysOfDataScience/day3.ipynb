{
 "cells": [
  {
   "cell_type": "markdown",
   "id": "e00925ce",
   "metadata": {},
   "source": [
    "20th june (day 7)"
   ]
  },
  {
   "cell_type": "code",
   "execution_count": null,
   "id": "fbfe27d2",
   "metadata": {},
   "outputs": [],
   "source": [
    "p = 20 \n",
    "q = 20\n",
    "r = 20\n",
    "p = q = r = 20\n",
    "\n"
   ]
  },
  {
   "cell_type": "markdown",
   "id": "a2421fd6",
   "metadata": {},
   "source": [
    "string "
   ]
  },
  {
   "cell_type": "code",
   "execution_count": null,
   "id": "d5f2b2bc",
   "metadata": {},
   "outputs": [
    {
     "name": "stdout",
     "output_type": "stream",
     "text": [
      "hello py\n"
     ]
    }
   ],
   "source": [
    "s = 'hello python'\n",
    "s\n",
    "print(s[0:8])"
   ]
  },
  {
   "cell_type": "code",
   "execution_count": null,
   "id": "fb20bef4",
   "metadata": {},
   "outputs": [
    {
     "name": "stdout",
     "output_type": "stream",
     "text": [
      "mirza naveed baig \n",
      "18\n"
     ]
    }
   ],
   "source": [
    "name = input(\"enter your name : \")\n",
    " print(name)\n",
    "print(len(name))"
   ]
  },
  {
   "cell_type": "code",
   "execution_count": 14,
   "id": "f8d89f0f",
   "metadata": {},
   "outputs": [
    {
     "data": {
      "text/plain": [
       "'navee'"
      ]
     },
     "execution_count": 14,
     "metadata": {},
     "output_type": "execute_result"
    }
   ],
   "source": [
    "name = 'naveed mirza'\n",
    "name[:-7]"
   ]
  },
  {
   "cell_type": "code",
   "execution_count": 15,
   "id": "9722830c",
   "metadata": {},
   "outputs": [
    {
     "data": {
      "text/plain": [
       "'nve'"
      ]
     },
     "execution_count": 15,
     "metadata": {},
     "output_type": "execute_result"
    }
   ],
   "source": [
    "name = 'naveed'\n",
    "name[0:5:2]"
   ]
  },
  {
   "cell_type": "code",
   "execution_count": 20,
   "id": "9d8b4512",
   "metadata": {},
   "outputs": [
    {
     "data": {
      "text/plain": [
       "'hlopt'"
      ]
     },
     "execution_count": 20,
     "metadata": {},
     "output_type": "execute_result"
    }
   ],
   "source": [
    "s = 'hello python'\n",
    "s[0:10:2]"
   ]
  },
  {
   "cell_type": "code",
   "execution_count": 22,
   "id": "25dff11c",
   "metadata": {},
   "outputs": [
    {
     "name": "stdout",
     "output_type": "stream",
     "text": [
      "<class 'int'>\n"
     ]
    }
   ],
   "source": [
    "name = int(12.3)\n",
    "print(type(name))"
   ]
  },
  {
   "cell_type": "code",
   "execution_count": null,
   "id": "db6bd9b3",
   "metadata": {},
   "outputs": [],
   "source": []
  },
  {
   "cell_type": "code",
   "execution_count": 1,
   "id": "9c22ba45",
   "metadata": {},
   "outputs": [
    {
     "name": "stdout",
     "output_type": "stream",
     "text": [
      "<class 'float'>\n"
     ]
    }
   ],
   "source": [
    "import numpy as np \n",
    "print(type(np.nan))"
   ]
  },
  {
   "cell_type": "code",
   "execution_count": null,
   "id": "c156d333",
   "metadata": {},
   "outputs": [
    {
     "name": "stdout",
     "output_type": "stream",
     "text": [
      "sum: 32.0 + 34.0 = 66.0\n"
     ]
    }
   ],
   "source": [
    "num_1 = float(input(\"enter the number : \"))\n",
    "num_2 = float(input(\"enter the number : \"))\n",
    "sum_result = num_1 + num_2\n",
    "print(f\"sum: {num_1} + {num_2} = {sum_result}\")\n"
   ]
  },
  {
   "cell_type": "code",
   "execution_count": 4,
   "id": "90ae74d6",
   "metadata": {},
   "outputs": [
    {
     "name": "stdout",
     "output_type": "stream",
     "text": [
      "sum : 34 + 55 + 76 + 54 + 76 = 295\n",
      "total marks are :  295\n",
      "average of total subjects :  59.0\n"
     ]
    }
   ],
   "source": [
    "marks_eng = int(input(\"enter the number your want : \"))\n",
    "marks_hin = int(input(\"enter the number your want : \"))\n",
    "marks_marathi = int(input(\"enter the number your want : \"))\n",
    "marks_science = int(input(\"enter the number your want : \"))\n",
    "marks_math = int(input(\"enter the number your want : \"))\n",
    "\n",
    "total_marks = marks_eng + marks_marathi + marks_hin + marks_math + marks_science\n",
    "average_marks = total_marks / 5\n",
    "\n",
    "print(f\"sum : {marks_eng} + {marks_hin} + {marks_marathi} + {marks_science} + {marks_math} = {total_marks}\")\n",
    "print(\"total marks are : \", total_marks)\n",
    "print(\"average of total subjects : \", average_marks)\n"
   ]
  },
  {
   "cell_type": "code",
   "execution_count": null,
   "id": "716f5b05",
   "metadata": {},
   "outputs": [],
   "source": []
  }
 ],
 "metadata": {
  "kernelspec": {
   "display_name": "base",
   "language": "python",
   "name": "python3"
  },
  "language_info": {
   "codemirror_mode": {
    "name": "ipython",
    "version": 3
   },
   "file_extension": ".py",
   "mimetype": "text/x-python",
   "name": "python",
   "nbconvert_exporter": "python",
   "pygments_lexer": "ipython3",
   "version": "3.12.7"
  }
 },
 "nbformat": 4,
 "nbformat_minor": 5
}
