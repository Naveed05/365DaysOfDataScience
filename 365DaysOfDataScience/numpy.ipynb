{
 "cells": [
  {
   "cell_type": "code",
   "execution_count": 1,
   "id": "eb5349fe",
   "metadata": {},
   "outputs": [
    {
     "data": {
      "text/plain": [
       "'✅ Why Use NumPy?\\nEasy & fast handling of large datasets.\\n\\nSupports mathematical, logical, and statistical operations.\\n\\nMemory efficient compared to normal Python lists.'"
      ]
     },
     "execution_count": 1,
     "metadata": {},
     "output_type": "execute_result"
    }
   ],
   "source": [
    "'''🧠 What is NumPy?\n",
    "NumPy (Numerical Python) is a powerful Python library used for numerical computations, especially with arrays and matrices.\n",
    "It is very fast and widely used in Data Science, Machine Learning, and Scientific Computing.'''\n",
    "\n",
    "'''✅ Why Use NumPy?\n",
    "Easy & fast handling of large datasets.\n",
    "\n",
    "Supports mathematical, logical, and statistical operations.\n",
    "\n",
    "Memory efficient compared to normal Python lists.'''"
   ]
  },
  {
   "cell_type": "code",
   "execution_count": null,
   "id": "f87bf490",
   "metadata": {},
   "outputs": [],
   "source": [
    "# 📦 Importing NumPy\n",
    "import numpy as np   # 'np' is a common alias used for NumPy\n",
    "\n",
    "# 🧾 Creating 1D and 2D Arrays\n",
    "arr1 = np.array([1, 2, 3])           # 1D Array\n",
    "arr2 = np.array([[4, 5], [6, 7]])    # 2D Array   arr2 = np.array([[4, 5], [6, 7]]), ([1, 2, 3])\n",
    "\n",
    "# 📌 Checking Array Type and Dimensions\n",
    "print(\"Type of arr1:\", type(arr1))        # <class 'numpy.ndarray'>\n",
    "print(\"Dimension of arr1:\", arr1.ndim)    # 1D\n",
    "print(\"Shape of arr2:\", arr2.shape)       # (2, 2) → 2 rows, 2 columns\n",
    "print(\"Data type:\", arr1.dtype)           # int32 (by default)\n",
    "\n",
    "# ➕ ➖ ✖️ ➗ Arithmetic Operations\n",
    "arr3 = np.array([4, 5, 6])\n",
    "print(\"Addition:\", arr1 + arr3)           # Element-wise addition\n",
    "print(\"Multiplication:\", arr1 * arr3)     # Element-wise multiplication\n",
    "print(\"Power:\", np.power(arr1, 2))        # Square of each element\n",
    "print(\"Square Root:\", np.sqrt(arr3))      # Square root of each element\n",
    "\n",
    "# 🎲 Array of Zeros, Ones, Identity, Full\n",
    "print(\"Zeros:\\n\", np.zeros((2, 3)))       # 2x3 matrix of zeros\n",
    "print(\"Ones:\\n\", np.ones((2, 2)))         # 2x2 matrix of ones\n",
    "print(\"Identity Matrix:\\n\", np.eye(3))    # 3x3 Identity matrix\n",
    "print(\"Matrix with value 7:\\n\", np.full((2, 2), 7))\n",
    "\n",
    "# 📐 Range-like Array\n",
    "print(\"np.arange(1, 10, 2):\", np.arange(1, 10, 2))     # Start, Stop, Step\n",
    "print(\"np.linspace(0, 1, 5):\", np.linspace(0, 1, 5))   # 5 values between 0 and 1\n",
    "\n",
    "# 🔀 Reshaping an Array\n",
    "arr4 = np.array([1, 2, 3, 4, 5, 6])\n",
    "reshaped = arr4.reshape((2, 3))   # 2 rows, 3 columns\n",
    "print(\"Reshaped Array:\\n\", reshaped)\n",
    "\n",
    "# 🧮 Useful Mathematical Operations\n",
    "print(\"Sum:\", np.sum(arr1))\n",
    "print(\"Mean:\", np.mean(arr1))\n",
    "print(\"Max:\", np.max(arr1))\n",
    "print(\"Min:\", np.min(arr1))\n",
    "\n",
    "# 🔢 Random Numbers\n",
    "print(\"Random Float 2x2:\\n\", np.random.rand(2, 2))     # Random floats [0, 1)\n",
    "print(\"Random Integers:\\n\", np.random.randint(1, 10, 5))  # 5 integers from 1 to 9\n",
    "\n",
    "# 🔗 Combining Arrays\n",
    "a = np.array([1, 2])\n",
    "b = np.array([3, 4])\n",
    "print(\"Concatenate:\", np.concatenate([a, b]))\n",
    "print(\"Vertical Stack:\\n\", np.vstack([a, b]))\n",
    "print(\"Horizontal Stack:\\n\", np.hstack([a, b]))\n",
    "\n",
    "# ✅ Copy vs View\n",
    "original = np.array([10, 20, 30])\n",
    "copy_arr = original.copy()   # Independent copy\n",
    "view_arr = original.view()   # Linked view\n",
    "original[0] = 99\n",
    "print(\"Original:\", original)\n",
    "print(\"Copy:\", copy_arr)\n",
    "print(\"View:\", view_arr)\n",
    "\n",
    "# 📌 Function Example: Square of a Number\n",
    "def find_square(n):\n",
    "    return n * n\n",
    "\n",
    "print(\"Square of 5:\", find_square(5))\n",
    "\n",
    "# 📌 Function: Check if a Number is Even or Odd\n",
    "def is_even(num):\n",
    "    if num % 2 == 0:\n",
    "        return \"Even\"\n",
    "    else:\n",
    "        return \"Odd\"\n",
    "\n",
    "print(\"Check 6:\", is_even(6))\n",
    "print(\"Check 9:\", is_even(9))\n",
    "\n",
    "# 📌 Area of a Circle (Math Module)\n",
    "from math import pi\n",
    "def area_of_circle(radius):\n",
    "    return pi * radius * radius\n",
    "\n",
    "print(\"Area of Circle (r=5):\", area_of_circle(5))\n"
   ]
  },
  {
   "cell_type": "code",
   "execution_count": null,
   "id": "aeb522a7",
   "metadata": {},
   "outputs": [],
   "source": [
    "| Topic                                | Description     |\n",
    "| ------------------------------------ | --------------- |\n",
    "| `np.array()`                         | Create arrays   |\n",
    "| `.ndim`, `.shape`, `.dtype`          | Array info      |\n",
    "| `+`, `*`, `/`, `**`                  | Arithmetic ops  |\n",
    "| `np.zeros`, `np.ones`, `np.eye`      | Special arrays  |\n",
    "| `np.arange`, `np.linspace`           | Range arrays    |\n",
    "| `.reshape()`                         | Reshape array   |\n",
    "| `np.sum()`, `np.mean()`              | Stats functions |\n",
    "| `np.random`                          | Random numbers  |\n",
    "| `np.concatenate`, `vstack`, `hstack` | Join arrays     |\n"
   ]
  },
  {
   "cell_type": "code",
   "execution_count": null,
   "id": "e105ce7f",
   "metadata": {},
   "outputs": [],
   "source": []
  }
 ],
 "metadata": {
  "kernelspec": {
   "display_name": "base",
   "language": "python",
   "name": "python3"
  },
  "language_info": {
   "codemirror_mode": {
    "name": "ipython",
    "version": 3
   },
   "file_extension": ".py",
   "mimetype": "text/x-python",
   "name": "python",
   "nbconvert_exporter": "python",
   "pygments_lexer": "ipython3",
   "version": "3.12.7"
  }
 },
 "nbformat": 4,
 "nbformat_minor": 5
}
