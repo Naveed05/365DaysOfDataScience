{
 "cells": [
  {
   "cell_type": "code",
   "execution_count": null,
   "id": "ace6f406",
   "metadata": {},
   "outputs": [],
   "source": [
    "names = [\"Krish\", \"Jack\", \"Jacob\", 1, 2, 3, 4, 5]\n",
    "\n",
    "for index, value in enumerate(names):\n",
    "    print(index, value)"
   ]
  },
  {
   "cell_type": "code",
   "execution_count": 8,
   "id": "271e76fa",
   "metadata": {},
   "outputs": [
    {
     "name": "stdout",
     "output_type": "stream",
     "text": [
      "list 3 is  [1, 2, 3, 4, 5, 6, 7, 8, 9, 0]\n",
      "new list one is is  [1, 2, 3, 4, 5, 6, 7, 8, 9, 0]\n",
      "[6, 7, 8, 9, 0]\n"
     ]
    }
   ],
   "source": [
    "list1 = [1,2,3,4,5]\n",
    "list2 = [6,7,8,9,0]\n",
    "list3 = list1 + list2\n",
    "print(\"list 3 is \", list3)\n",
    "list1.extend(list2)\n",
    "print(\"new list one is is \", list1)\n",
    "print(list2)\n"
   ]
  },
  {
   "cell_type": "code",
   "execution_count": null,
   "id": "c5d728c1",
   "metadata": {},
   "outputs": [],
   "source": [
    "ist1 = [1,2,3,4,5]\n",
    "list2 = [6,7,8,9,0]\n",
    "list1.extend(list2)\n",
    "print(\"new list one is is \", list1)"
   ]
  },
  {
   "cell_type": "code",
   "execution_count": null,
   "id": "3b2b295b",
   "metadata": {},
   "outputs": [
    {
     "name": "stdout",
     "output_type": "stream",
     "text": [
      "A to Z: ['a', 'b', 'c', 'd', 'e', 'f', 'g', 'h', 'i', 'j', 'k', 'l', 'm', 'n', 'o', 'p', 'q', 'r', 's', 't', 'u', 'v', 'w', 'x', 'y', 'z']\n",
      "Z to A: ['z', 'y', 'x', 'w', 'v', 'u', 't', 's', 'r', 'q', 'p', 'o', 'n', 'm', 'l', 'k', 'j', 'i', 'h', 'g', 'f', 'e', 'd', 'c', 'b', 'a']\n"
     ]
    }
   ],
   "source": [
    "alphabets = list(\"abcdefghijklmnopqrstuvwxyz\")\n",
    "\n",
    "alphabets.sort()            # A to Z\n",
    "print(\"A to Z:\", alphabets)\n",
    "\n",
    "alphabets.reverse()         # Z to A\n",
    "print(\"Z to A:\", alphabets)\n"
   ]
  },
  {
   "cell_type": "code",
   "execution_count": 1,
   "id": "0370d10d",
   "metadata": {},
   "outputs": [
    {
     "name": "stdout",
     "output_type": "stream",
     "text": [
      "()\n",
      "<class 'tuple'>\n"
     ]
    }
   ],
   "source": [
    "empty_tuple = ()\n",
    "print(empty_tuple)\n",
    "print(type(empty_tuple))"
   ]
  },
  {
   "cell_type": "code",
   "execution_count": 2,
   "id": "191cde79",
   "metadata": {},
   "outputs": [
    {
     "name": "stdout",
     "output_type": "stream",
     "text": [
      "[]\n",
      "<class 'list'>\n"
     ]
    }
   ],
   "source": [
    "tpl = list()\n",
    "print(tpl)\n",
    "print(type(tpl))"
   ]
  },
  {
   "cell_type": "code",
   "execution_count": 3,
   "id": "b05e6c1c",
   "metadata": {},
   "outputs": [
    {
     "name": "stdout",
     "output_type": "stream",
     "text": [
      "()\n",
      "<class 'tuple'>\n"
     ]
    }
   ],
   "source": [
    "tpl = tuple()\n",
    "print(tpl)\n",
    "print(type(tpl))"
   ]
  },
  {
   "cell_type": "code",
   "execution_count": 7,
   "id": "6a731bf5",
   "metadata": {},
   "outputs": [
    {
     "name": "stdout",
     "output_type": "stream",
     "text": [
      "<class 'tuple'>\n"
     ]
    },
    {
     "data": {
      "text/plain": [
       "1"
      ]
     },
     "execution_count": 7,
     "metadata": {},
     "output_type": "execute_result"
    }
   ],
   "source": [
    "numbers = (1,2,3,4,5)\n",
    "print(type(numbers))\n",
    "# numbers[-1]\n",
    "numbers[0]"
   ]
  },
  {
   "cell_type": "code",
   "execution_count": 8,
   "id": "e4e9cc1e",
   "metadata": {},
   "outputs": [
    {
     "data": {
      "text/plain": [
       "(1, 2, 3, 4, 5)"
      ]
     },
     "execution_count": 8,
     "metadata": {},
     "output_type": "execute_result"
    }
   ],
   "source": [
    "numbers[::]"
   ]
  },
  {
   "cell_type": "code",
   "execution_count": 13,
   "id": "4838e4df",
   "metadata": {},
   "outputs": [
    {
     "name": "stdout",
     "output_type": "stream",
     "text": [
      "(1, 2, 3, 4, 5, 'naveed', 21, 44, 54)\n"
     ]
    }
   ],
   "source": [
    "mixed_tuples = ('naveed', 21,44,54)\n",
    "concatinated_tuple = numbers + mixed_tuples\n",
    "print(concatinated_tuple)\n",
    "# concatinated_tuple.sort  tuples are immutabele so we cant change or modidy it "
   ]
  },
  {
   "cell_type": "code",
   "execution_count": 18,
   "id": "66e6d0b0",
   "metadata": {},
   "outputs": [
    {
     "data": {
      "text/plain": [
       "(1, 2, 3, 4, 5, 1, 2, 3, 4, 5, 1, 2, 3, 4, 5, 1, 2, 3, 4, 5, 1, 2, 3, 4, 5)"
      ]
     },
     "execution_count": 18,
     "metadata": {},
     "output_type": "execute_result"
    }
   ],
   "source": [
    "mixed_tuples * 3\n",
    "numbers * 5"
   ]
  },
  {
   "cell_type": "code",
   "execution_count": 21,
   "id": "ef185b57",
   "metadata": {},
   "outputs": [
    {
     "data": {
      "text/plain": [
       "1"
      ]
     },
     "execution_count": 21,
     "metadata": {},
     "output_type": "execute_result"
    }
   ],
   "source": [
    "mixed_tuples.count(2)\n",
    "numbers.count(2)"
   ]
  },
  {
   "cell_type": "code",
   "execution_count": 22,
   "id": "d0b29fb6",
   "metadata": {},
   "outputs": [
    {
     "ename": "AttributeError",
     "evalue": "'tuple' object has no attribute 'value'",
     "output_type": "error",
     "traceback": [
      "\u001b[1;31m---------------------------------------------------------------------------\u001b[0m",
      "\u001b[1;31mAttributeError\u001b[0m                            Traceback (most recent call last)",
      "Cell \u001b[1;32mIn[22], line 1\u001b[0m\n\u001b[1;32m----> 1\u001b[0m numbers\u001b[38;5;241m.\u001b[39mvalue(\u001b[38;5;241m2\u001b[39m)\n",
      "\u001b[1;31mAttributeError\u001b[0m: 'tuple' object has no attribute 'value'"
     ]
    }
   ],
   "source": [
    "numbers.value(2)"
   ]
  },
  {
   "cell_type": "code",
   "execution_count": 23,
   "id": "7b7c02b3",
   "metadata": {},
   "outputs": [
    {
     "name": "stdout",
     "output_type": "stream",
     "text": [
      "1\n"
     ]
    }
   ],
   "source": [
    "print(numbers.count(2))"
   ]
  },
  {
   "cell_type": "code",
   "execution_count": null,
   "id": "cbb7fac8",
   "metadata": {},
   "outputs": [
    {
     "name": "stdout",
     "output_type": "stream",
     "text": [
      "3\n"
     ]
    }
   ],
   "source": [
    "numbers = (21,211,12,32,2,2,2)\n",
    "print(numbers.count(2))\n",
    "print(numbers.index(22))"
   ]
  },
  {
   "cell_type": "code",
   "execution_count": null,
   "id": "747d3dad",
   "metadata": {},
   "outputs": [
    {
     "name": "stdout",
     "output_type": "stream",
     "text": [
      "1\n"
     ]
    }
   ],
   "source": [
    "print(numbers.index(22))"
   ]
  },
  {
   "cell_type": "code",
   "execution_count": null,
   "id": "5d1d0e49",
   "metadata": {},
   "outputs": [],
   "source": []
  }
 ],
 "metadata": {
  "kernelspec": {
   "display_name": "base",
   "language": "python",
   "name": "python3"
  },
  "language_info": {
   "codemirror_mode": {
    "name": "ipython",
    "version": 3
   },
   "file_extension": ".py",
   "mimetype": "text/x-python",
   "name": "python",
   "nbconvert_exporter": "python",
   "pygments_lexer": "ipython3",
   "version": "3.12.7"
  }
 },
 "nbformat": 4,
 "nbformat_minor": 5
}
