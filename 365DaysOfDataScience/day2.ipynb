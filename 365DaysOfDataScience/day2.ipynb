{
 "cells": [
  {
   "cell_type": "markdown",
   "id": "446b32f1",
   "metadata": {},
   "source": [
    "date = 19th "
   ]
  },
  {
   "cell_type": "code",
   "execution_count": 1,
   "id": "26a2a348",
   "metadata": {},
   "outputs": [
    {
     "name": "stdout",
     "output_type": "stream",
     "text": [
      "<class 'int'>\n"
     ]
    }
   ],
   "source": [
    "i = 32\n",
    "print(type(i))"
   ]
  },
  {
   "cell_type": "code",
   "execution_count": 7,
   "id": "46825eed",
   "metadata": {},
   "outputs": [
    {
     "name": "stdout",
     "output_type": "stream",
     "text": [
      "('audi', 'maruti', 'bmw')\n"
     ]
    }
   ],
   "source": [
    "cars = 'audi', 'maruti','bmw'\n",
    "print(cars)"
   ]
  },
  {
   "cell_type": "code",
   "execution_count": null,
   "id": "f9e03ac8",
   "metadata": {},
   "outputs": [],
   "source": [
    "name = (input(\"enter your name :\"))\n",
    "city = (input(\"enter your city : \"))\n",
    "course = (input(\"enter your course\"))\n",
    "print('my name is ', name, 'i am from ', city, 'and studying', course)"
   ]
  }
 ],
 "metadata": {
  "kernelspec": {
   "display_name": "base",
   "language": "python",
   "name": "python3"
  },
  "language_info": {
   "codemirror_mode": {
    "name": "ipython",
    "version": 3
   },
   "file_extension": ".py",
   "mimetype": "text/x-python",
   "name": "python",
   "nbconvert_exporter": "python",
   "pygments_lexer": "ipython3",
   "version": "3.12.7"
  }
 },
 "nbformat": 4,
 "nbformat_minor": 5
}
