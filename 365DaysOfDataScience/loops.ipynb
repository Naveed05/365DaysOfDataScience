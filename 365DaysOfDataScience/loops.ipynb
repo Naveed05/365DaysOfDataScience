{
 "cells": [
  {
   "cell_type": "code",
   "execution_count": null,
   "id": "fbf62016",
   "metadata": {},
   "outputs": [],
   "source": [
    "print('data science ')\n",
    "print('data science ')\n",
    "print('data science ')\n",
    "print('data science ')\n",
    "print('data science ')\n"
   ]
  },
  {
   "cell_type": "code",
   "execution_count": null,
   "id": "0df817b9",
   "metadata": {},
   "outputs": [],
   "source": [
    "for i in range(0,5):\n",
    "    print(\"data science \")\n",
    "    i = i+1"
   ]
  },
  {
   "cell_type": "code",
   "execution_count": null,
   "id": "5d834bda",
   "metadata": {},
   "outputs": [],
   "source": [
    "i = 0 \n",
    "\n",
    "while i<=5:\n",
    "    print(\"data science\")\n",
    "    i = i+1\n",
    "\n"
   ]
  },
  {
   "cell_type": "code",
   "execution_count": null,
   "id": "4646acbf",
   "metadata": {},
   "outputs": [],
   "source": [
    "i = 5 \n",
    "\n",
    "while i<=0:\n",
    "    print(\"data science\")\n",
    "    i = i-1"
   ]
  },
  {
   "cell_type": "code",
   "execution_count": null,
   "id": "046cb0c5",
   "metadata": {},
   "outputs": [],
   "source": [
    "i = 5\n",
    "\n",
    "while i>=0:\n",
    "    print(\"data science : \", i )\n",
    "    i = i-1"
   ]
  },
  {
   "cell_type": "code",
   "execution_count": null,
   "id": "d2be0f0f",
   "metadata": {},
   "outputs": [],
   "source": [
    "i = 5          # initializing\n",
    "\n",
    "while i>=1:    # condition\n",
    "    print('data science')\n",
    "    i = i - 1  # decrement"
   ]
  },
  {
   "cell_type": "code",
   "execution_count": null,
   "id": "87ab2c9b",
   "metadata": {},
   "outputs": [],
   "source": [
    "i = 1 \n",
    "while i<=5:\n",
    "    print(\"data science: \", i )\n",
    "    i = i + 1 "
   ]
  },
  {
   "cell_type": "code",
   "execution_count": null,
   "id": "241c3da1",
   "metadata": {},
   "outputs": [],
   "source": [
    "i = 1\n",
    "while i <=5:\n",
    "    print(\"data science :\", i )\n",
    "    i = i+1"
   ]
  },
  {
   "cell_type": "code",
   "execution_count": null,
   "id": "d8ed9383",
   "metadata": {},
   "outputs": [],
   "source": [
    "i = 5 \n",
    "while i>=0:\n",
    "    print(\"data science :\", i)\n",
    "    i = i-1"
   ]
  },
  {
   "cell_type": "code",
   "execution_count": null,
   "id": "dcfb4572",
   "metadata": {},
   "outputs": [],
   "source": [
    "i = 1\n",
    "\n",
    "while i<=5:\n",
    "    print('data science') # when we mention end then new line will not create\n",
    "    j = 1\n",
    "    while j<=4:\n",
    "        print('technology')\n",
    "        j = j + 1\n",
    "        \n",
    "    i = i + 1\n",
    "    print()\n",
    "    \n",
    "    # the output which we got is very lengty but how to make them one line lets refer to below code"
   ]
  },
  {
   "cell_type": "code",
   "execution_count": null,
   "id": "bcee53e0",
   "metadata": {},
   "outputs": [],
   "source": [
    "i = 1 \n",
    "while i<=4:\n",
    "    print(\"data science \")\n",
    "    j = 1\n",
    "    while j<= 3:\n",
    "        print(\"tech\")\n",
    "        j = j+1\n",
    "\n",
    "    i = i + 1 \n",
    "    print()"
   ]
  },
  {
   "cell_type": "code",
   "execution_count": null,
   "id": "eb8a205e",
   "metadata": {},
   "outputs": [],
   "source": [
    "i = 5\n",
    "for i in range (5):\n",
    "    print(\" \",* \"data science \")\n",
    "\n",
    "    i = i+1\n"
   ]
  },
  {
   "cell_type": "code",
   "execution_count": null,
   "id": "ab8fae2b",
   "metadata": {},
   "outputs": [],
   "source": [
    "i = 5 \n",
    "\n",
    "for i in range(5):\n",
    "    print(\"data science : \", i)\n",
    "\n",
    "    i = i+1"
   ]
  },
  {
   "cell_type": "code",
   "execution_count": null,
   "id": "a2e7fa82",
   "metadata": {},
   "outputs": [],
   "source": [
    "i = 1\n",
    "while i<=5:\n",
    "    print(\"Mirza\")\n",
    "    j = 1\n",
    "    while j<=4:\n",
    "        print(\"Naveed\")\n",
    "\n",
    "        j= j+1\n",
    "    i = i+1\n",
    "    print()"
   ]
  },
  {
   "cell_type": "code",
   "execution_count": null,
   "id": "ec79d482",
   "metadata": {},
   "outputs": [],
   "source": [
    "i = 1\n",
    "while i<=5:\n",
    "    print(\"Mirza\", end=\" \")\n",
    "    j = 1\n",
    "    while j<=4:\n",
    "        print(\"Naveed\", end= \" \")\n",
    "\n",
    "        j= j+1\n",
    "    i = i+1\n",
    "    print()"
   ]
  },
  {
   "cell_type": "code",
   "execution_count": null,
   "id": "cec2885f",
   "metadata": {},
   "outputs": [],
   "source": [
    "i = 5\n",
    "while i >=1:\n",
    "    print(\"data science : \", i )\n",
    "    i = i-1"
   ]
  },
  {
   "cell_type": "code",
   "execution_count": null,
   "id": "f840044b",
   "metadata": {},
   "outputs": [],
   "source": [
    "i = 6\n",
    "while i>=1:\n",
    "    print(\"my name is naveed for the \", i,\"th time \")\n",
    "    i = i-1"
   ]
  },
  {
   "cell_type": "code",
   "execution_count": null,
   "id": "1d384ba4",
   "metadata": {},
   "outputs": [],
   "source": [
    "\n",
    "i = 1\n",
    "\n",
    "while i <= 2 :\n",
    "    j = 0\n",
    "    while  j <= 2 :\n",
    "        print(i*j, end=\" \")\n",
    "        j += 1\n",
    "    print()\n",
    "    i += 1"
   ]
  },
  {
   "cell_type": "code",
   "execution_count": null,
   "id": "88936358",
   "metadata": {},
   "outputs": [],
   "source": [
    "i = 1 \n",
    "while i<=2:\n",
    "    j = 0\n",
    "    while j<=2:\n",
    "        print(i*j, end=\" \")\n",
    "        j = j + 1\n",
    "    print()\n",
    "    i = i+1"
   ]
  },
  {
   "cell_type": "code",
   "execution_count": null,
   "id": "5e1b08f0",
   "metadata": {},
   "outputs": [],
   "source": [
    "i = 1 \n",
    "while i<=4:\n",
    "    j = 0 \n",
    "    while j <=3:\n",
    "        print(i * j, end=\" \")\n",
    "        j = j+1\n",
    "    print()\n",
    "    i = i+1"
   ]
  },
  {
   "cell_type": "code",
   "execution_count": null,
   "id": "2ef4003d",
   "metadata": {},
   "outputs": [],
   "source": [
    "i = 2 \n",
    "while i <=5:\n",
    "    j = 0\n",
    "    while j<=7:\n",
    "        print(i*j, end=\" \")\n",
    "        j = j+1\n",
    "    print()\n",
    "    i = i+1 "
   ]
  },
  {
   "cell_type": "code",
   "execution_count": null,
   "id": "677ed117",
   "metadata": {},
   "outputs": [],
   "source": [
    "name = 'Naveed'\n",
    "\n",
    "for i in name:\n",
    "    print(i)"
   ]
  },
  {
   "cell_type": "code",
   "execution_count": null,
   "id": "f22dd7be",
   "metadata": {},
   "outputs": [],
   "source": [
    "Names = [\"naveed\", \"sufyan\", \"shajil\", \"adnan\"]\n",
    "\n",
    "for name in Names:\n",
    "    print(name)"
   ]
  },
  {
   "cell_type": "code",
   "execution_count": null,
   "id": "7b4f4cab",
   "metadata": {},
   "outputs": [],
   "source": [
    "lists = [32,12,12,12,43,21,\"naveed\"]\n",
    "for list in lists:\n",
    "    print(list)"
   ]
  },
  {
   "cell_type": "code",
   "execution_count": null,
   "id": "9a452ad3",
   "metadata": {},
   "outputs": [],
   "source": [
    "for i in range(11):\n",
    "    print(f\"{i} x {i+1} = {i * (i+1)}\")\n"
   ]
  },
  {
   "cell_type": "code",
   "execution_count": null,
   "id": "3c6e8b73",
   "metadata": {},
   "outputs": [],
   "source": [
    "for i in range(1, 11):\n",
    "    print(f\"2 x {i} = {2 * i}\")\n"
   ]
  },
  {
   "cell_type": "code",
   "execution_count": null,
   "id": "c0170906",
   "metadata": {},
   "outputs": [],
   "source": [
    "for i in range(1,11):\n",
    "    print(f\"2 x {i+ 1 } = {2*i }\")\n"
   ]
  },
  {
   "cell_type": "code",
   "execution_count": null,
   "id": "20f8b31c",
   "metadata": {},
   "outputs": [],
   "source": [
    "for i in range (1,11):\n",
    "    print(f\"12 x {i+1} = {2 * i}\")"
   ]
  },
  {
   "cell_type": "code",
   "execution_count": null,
   "id": "11a4d1c5",
   "metadata": {},
   "outputs": [],
   "source": [
    "for i in range(1,10,3):\n",
    "    print(i)"
   ]
  },
  {
   "cell_type": "code",
   "execution_count": null,
   "id": "87cb705c",
   "metadata": {},
   "outputs": [],
   "source": [
    "for i in range (1,51):\n",
    "    if i%5==0:\n",
    "        print(i)"
   ]
  },
  {
   "cell_type": "code",
   "execution_count": null,
   "id": "c542ceb9",
   "metadata": {},
   "outputs": [],
   "source": [
    "for i in range(1,21):\n",
    "    \n",
    "    if i%5!=0 :\n",
    "        print(i)"
   ]
  },
  {
   "cell_type": "code",
   "execution_count": null,
   "id": "ce0d54ce",
   "metadata": {},
   "outputs": [],
   "source": [
    "for i in range(2,20):\n",
    "    if i%5!=0:\n",
    "        print(i)"
   ]
  },
  {
   "cell_type": "code",
   "execution_count": null,
   "id": "4ed889fb",
   "metadata": {},
   "outputs": [],
   "source": [
    "x = int(input('How many balls do  you want: ?'))\n",
    "\n",
    "i = 1\n",
    "while i<=x:\n",
    "    print('balls')\n",
    "    i += 1       "
   ]
  },
  {
   "cell_type": "code",
   "execution_count": null,
   "id": "e07e9d84",
   "metadata": {},
   "outputs": [],
   "source": [
    "# stock = 6\n",
    "# customer = int(input(\"How many balls do u wnat ??\"))\n",
    "\n",
    "# i = 1\n",
    "# while i<=stock:\n",
    "#     if i>customer:\n",
    "#         print(\"Balls\" * i)\n",
    "#     else:\n",
    "#         print(\"not available stock\")\n",
    "\n",
    "# i = i + 1\n",
    "\n",
    "# print(\"Bye nice to meet you \")\n",
    "        \n",
    "\n"
   ]
  },
  {
   "cell_type": "code",
   "execution_count": 42,
   "id": "c82554fb",
   "metadata": {},
   "outputs": [
    {
     "name": "stdout",
     "output_type": "stream",
     "text": [
      "Not enough stock available\n",
      "Bye, nice to meet you!\n"
     ]
    }
   ],
   "source": [
    "stock = 6\n",
    "customer = int(input(\"How many balls do you want? \"))\n",
    "\n",
    "if customer <= stock:\n",
    "    print(\"Balls \" * customer)\n",
    "else:\n",
    "    print(\"Not enough stock available\")\n",
    "\n",
    "print(\"Bye, nice to meet you!\")\n"
   ]
  },
  {
   "cell_type": "code",
   "execution_count": 45,
   "id": "8b402d1a",
   "metadata": {},
   "outputs": [
    {
     "name": "stdout",
     "output_type": "stream",
     "text": [
      "Ball 1\n",
      "Ball 2\n",
      "Ball 3\n",
      "Bye, nice to meet you\n"
     ]
    }
   ],
   "source": [
    "stock = 6\n",
    "customer = int(input(\"How many balls do you want? \"))\n",
    "\n",
    "i = 1\n",
    "while i <= customer:\n",
    "    if customer <= stock:\n",
    "        print(\"Ball\", i)\n",
    "    else:\n",
    "        print(\"Not enough stock available\")\n",
    "        break  \n",
    "    i += 1\n",
    "\n",
    "print(\"Bye, nice to meet you\")\n"
   ]
  },
  {
   "cell_type": "code",
   "execution_count": null,
   "id": "59aa3dbd",
   "metadata": {},
   "outputs": [],
   "source": []
  },
  {
   "cell_type": "code",
   "execution_count": null,
   "id": "f6961519",
   "metadata": {},
   "outputs": [],
   "source": []
  }
 ],
 "metadata": {
  "kernelspec": {
   "display_name": "base",
   "language": "python",
   "name": "python3"
  },
  "language_info": {
   "codemirror_mode": {
    "name": "ipython",
    "version": 3
   },
   "file_extension": ".py",
   "mimetype": "text/x-python",
   "name": "python",
   "nbconvert_exporter": "python",
   "pygments_lexer": "ipython3",
   "version": "3.12.7"
  }
 },
 "nbformat": 4,
 "nbformat_minor": 5
}
